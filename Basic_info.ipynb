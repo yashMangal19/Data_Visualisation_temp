{
 "cells": [
  {
   "cell_type": "markdown",
   "id": "a5de28d8",
   "metadata": {},
   "source": [
    "**Measurement(s)** - Heart rate • Accelerometer • Oxygen Consumption • Gyroscope • Respiratory Rate\n",
    "\n",
    "**Technology Type(s)** -  PPG/ECG sensors • Accelerometer sensors • VO2 Master Analyzer • Gyroscope sensors • Wahoo ticker\n",
    "\n",
    "**Devices** \n",
    "- indirect calorimeter\n",
    "- headband\n",
    "- earbuds\n",
    "- two chest-belts (a commercial and a gold-standard device)\n",
    "- three wristbands (a research-grade and two commercial devices)\n",
    "\n",
    "**Sensor Data**\n",
    "- oxygen consumption (VO2)\n",
    "- fraction of oxygen in expired breath (FeO2)\n",
    "- air moved by the lungs (Ve)\n",
    "- volume breathed in a breath (Tv)\n",
    "- breaths per minute (BR)\n",
    "- humidity (H)\n",
    "- temperature (T)\n",
    "- pressure (P)\n",
    "- acceleration (ACC)\n",
    "- gyroscope (GYRO)\n",
    "- photoplethysmography (PPG) - https://chat.openai.com/share/6c61de02-a39c-4d1f-8472-636666b3be25\n",
    "- electrocardiography (ECG) - https://chat.openai.com/share/b11a1eb5-e6c6-4a18-bfe1-ed4951b361a2\n",
    "- electrodermal activity (EDA) - https://chat.openai.com/?model=text-davinci-002-render-sha\n",
    "- skin temperature (TEMP)\n",
    "- electroencephalography (EEG) - https://chat.openai.com/share/b222a36e-2192-41d3-a684-7eca34d3630b\n",
    "\n",
    "<br>\n",
    "\n",
    "- **17 participants** (12 males and 5 females)\n",
    "- **Age** between 23 and 41 years old (MEAN = 30, STD = 5)\n",
    "- **average** BMI of 24.5 (STD = 2.9)"
   ]
  },
  {
   "cell_type": "code",
   "execution_count": null,
   "id": "667bf1f4",
   "metadata": {},
   "outputs": [],
   "source": []
  }
 ],
 "metadata": {
  "kernelspec": {
   "display_name": "Python 3 (ipykernel)",
   "language": "python",
   "name": "python3"
  },
  "language_info": {
   "codemirror_mode": {
    "name": "ipython",
    "version": 3
   },
   "file_extension": ".py",
   "mimetype": "text/x-python",
   "name": "python",
   "nbconvert_exporter": "python",
   "pygments_lexer": "ipython3",
   "version": "3.11.3"
  }
 },
 "nbformat": 4,
 "nbformat_minor": 5
}
