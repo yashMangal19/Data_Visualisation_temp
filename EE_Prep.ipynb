{
 "cells": [
  {
   "cell_type": "code",
   "execution_count": 150,
   "id": "2523c519-5206-4461-9300-65decdb42e2f",
   "metadata": {
    "tags": []
   },
   "outputs": [],
   "source": [
    "import pandas as pd\n",
    "import numpy as np\n",
    "from datetime import datetime, timezone\n",
    "from scipy.stats import skew, kurtosis\n",
    "import seaborn as sns\n",
    "from matplotlib import pyplot as plt\n",
    "\n",
    "import copy\n",
    "\n",
    "from sklearn.preprocessing import StandardScaler\n",
    "from sklearn.metrics import accuracy_score\n",
    "from sklearn.metrics import classification_report\n",
    "from sklearn.metrics import confusion_matrix as cm\n",
    "from sklearn.metrics import mean_squared_error\n",
    "\n",
    "from sklearn.linear_model import LinearRegression\n",
    "from sklearn.linear_model import Ridge\n",
    "from sklearn.linear_model import Lasso\n",
    "from sklearn.svm import SVR\n",
    "from sklearn.tree import DecisionTreeRegressor\n",
    "from sklearn.ensemble import RandomForestRegressor\n",
    "from sklearn.ensemble import GradientBoostingRegressor\n",
    "\n",
    "from sklearn.tree import DecisionTreeClassifier\n",
    "\n",
    "import math\n",
    "import os\n",
    "\n",
    "import warnings\n",
    "warnings.filterwarnings('ignore')"
   ]
  },
  {
   "cell_type": "code",
   "execution_count": 106,
   "id": "896e8397-6a91-40a6-bc82-bcb79001f6fe",
   "metadata": {
    "tags": []
   },
   "outputs": [],
   "source": [
    "# Get a list of all files in the folder\n",
    "files = os.listdir(\"refined_labels\")\n",
    "\n",
    "# Extract the first three letters of the file names and create a list\n",
    "persons = []\n",
    "\n",
    "for file in files:\n",
    "    if(file[0] == 'P'):\n",
    "        persons.append(file[:3])"
   ]
  },
  {
   "cell_type": "code",
   "execution_count": 107,
   "id": "0a7da1da-d458-4da6-90d0-8071990aaa42",
   "metadata": {
    "tags": []
   },
   "outputs": [
    {
     "data": {
      "text/plain": [
       "['P09',\n",
       " 'P10',\n",
       " 'P07',\n",
       " 'P03',\n",
       " 'P14',\n",
       " 'P04',\n",
       " 'P13',\n",
       " 'P17',\n",
       " 'P01',\n",
       " 'P16',\n",
       " 'P12',\n",
       " 'P05',\n",
       " 'P15',\n",
       " 'P02',\n",
       " 'P06',\n",
       " 'P11',\n",
       " 'P08']"
      ]
     },
     "execution_count": 107,
     "metadata": {},
     "output_type": "execute_result"
    }
   ],
   "source": [
    "persons"
   ]
  },
  {
   "cell_type": "code",
   "execution_count": 108,
   "id": "85b0d0a8-1fd1-4081-b886-67207b3b8e67",
   "metadata": {
    "tags": []
   },
   "outputs": [],
   "source": [
    "# VO2 data got lost at some point for person = 2,6,12,16\n",
    "# Therefore puttig these subjects into test set and rest for traininig\n",
    "test = ['P07','P13','P14','P17']\n",
    "train = [x for x in persons if x not in test]"
   ]
  },
  {
   "cell_type": "code",
   "execution_count": 109,
   "id": "7d977b58-f94b-42c2-9696-263a5af4dd33",
   "metadata": {
    "tags": []
   },
   "outputs": [
    {
     "data": {
      "text/plain": [
       "['P07', 'P13', 'P14', 'P17']"
      ]
     },
     "execution_count": 109,
     "metadata": {},
     "output_type": "execute_result"
    }
   ],
   "source": [
    "test"
   ]
  },
  {
   "cell_type": "code",
   "execution_count": 110,
   "id": "e9718f2d-c4c0-44e6-9c04-ab6c0c12f0c0",
   "metadata": {
    "tags": []
   },
   "outputs": [
    {
     "data": {
      "text/plain": [
       "['P09',\n",
       " 'P10',\n",
       " 'P03',\n",
       " 'P04',\n",
       " 'P01',\n",
       " 'P16',\n",
       " 'P12',\n",
       " 'P05',\n",
       " 'P15',\n",
       " 'P02',\n",
       " 'P06',\n",
       " 'P11',\n",
       " 'P08']"
      ]
     },
     "execution_count": 110,
     "metadata": {},
     "output_type": "execute_result"
    }
   ],
   "source": [
    "train"
   ]
  },
  {
   "cell_type": "code",
   "execution_count": 111,
   "id": "a45c4312-cac5-4fb4-8f28-a81b688b59e0",
   "metadata": {
    "tags": []
   },
   "outputs": [
    {
     "data": {
      "text/plain": [
       "17"
      ]
     },
     "execution_count": 111,
     "metadata": {},
     "output_type": "execute_result"
    }
   ],
   "source": [
    "len(persons)"
   ]
  },
  {
   "cell_type": "code",
   "execution_count": 112,
   "id": "0d5207b3-2387-4182-8a8c-6989fc4a8579",
   "metadata": {
    "tags": []
   },
   "outputs": [],
   "source": [
    "def getdf(person):\n",
    "    return pd.read_csv(f\"refined_labels/{person}-imu-right.csv\")\n",
    "\n",
    "def get_VO2df(person):\n",
    "    return pd.read_csv(f'dataset/{person}/VO2/DataAverage.csv')\n",
    "\n",
    "def get_demographics():\n",
    "    return pd.read_csv('dataset/Demographics.csv')"
   ]
  },
  {
   "cell_type": "code",
   "execution_count": 113,
   "id": "cb6dfd10-8cf4-4bc1-bba0-c9bd6f58968f",
   "metadata": {
    "tags": []
   },
   "outputs": [],
   "source": [
    "def convert_to_unix_gmt(time):\n",
    "    # Input datetime string\n",
    "    datetime_string = time\n",
    "\n",
    "    # Parse the datetime string into a datetime object\n",
    "    datetime_object = datetime.strptime(datetime_string, \"%Y-%m-%d %H:%M:%S\")\n",
    "\n",
    "    # Convert the datetime object to a Unix timestamp (13-digit, in milliseconds)\n",
    "    unix_timestamp = int(datetime_object.replace(tzinfo=timezone.utc).timestamp() * 1000)\n",
    "\n",
    "    return unix_timestamp"
   ]
  },
  {
   "cell_type": "code",
   "execution_count": 114,
   "id": "d27956d4-4ac9-4258-b61a-5c9221a7552d",
   "metadata": {
    "tags": []
   },
   "outputs": [],
   "source": [
    "label1_df, label2_df, label3_df, label4_df, label5_df, label6_df = pd.DataFrame(), pd.DataFrame(), pd.DataFrame(), pd.DataFrame(), pd.DataFrame(), pd.DataFrame()"
   ]
  },
  {
   "cell_type": "code",
   "execution_count": 115,
   "id": "dc32f426-cf9e-4b85-92b7-2fcbf1588d5a",
   "metadata": {
    "tags": []
   },
   "outputs": [
    {
     "name": "stdout",
     "output_type": "stream",
     "text": [
      "P09\n",
      "P10\n",
      "P03\n",
      "P04\n",
      "P01\n",
      "P16\n",
      "P12\n",
      "P05\n",
      "P15\n",
      "P02\n",
      "P06\n",
      "P11\n",
      "P08\n"
     ]
    }
   ],
   "source": [
    "for person in train:\n",
    "    df = getdf(person) # df1\n",
    "    \n",
    "    df['participant'] = person \n",
    "    \n",
    "    VO2_df = get_VO2df(person) #df2\n",
    "    \n",
    "    # Drop rows where 'VO2' column has a value of 0\n",
    "    VO2_df = VO2_df[VO2_df['VO2[mL/min]'] != 0]\n",
    "    \n",
    "    demographics = get_demographics()\n",
    "    \n",
    "    person_demo = demographics[demographics['Participant'] == person]\n",
    "    print(person)\n",
    "    for index, row in VO2_df.iterrows():\n",
    "        # Convert the time to Unix timestamp\n",
    "        unix_time = convert_to_unix_gmt(row['Time'])\n",
    "        \n",
    "        # Select rows from df1 within the time window\n",
    "        selected_rows = df[(df['timestamp'] >= unix_time) & (df['timestamp'] <= unix_time + 1000)]\n",
    "        \n",
    "        if(len(selected_rows) > 0):\n",
    "            # Calculate the result for selected rows\n",
    "            EEAC = (1 / len(selected_rows)) * np.sqrt((selected_rows['ax']**2 + selected_rows['ay']**2 + selected_rows['az']**2)).sum()\n",
    "\n",
    "            # Get the mode of the 'Label' column\n",
    "            label_mode = selected_rows['Label'].mode().values[0]\n",
    "\n",
    "            # Get the mode of the 'participant' column\n",
    "            # Though it will be ensured that all participants will be same in selected_rows.\n",
    "            # But just in case if in future code changes therefore applying for future reliability.\n",
    "            participant_mode = selected_rows['participant'].mode().values[0]\n",
    "\n",
    "            # Get the corresponding VO2 and FeO2 values from df2\n",
    "            vo2 = row['VO2[mL/min]']\n",
    "            feo2 = row['FeO2[%]']\n",
    "\n",
    "            EE = ((vo2 - vo2*(feo2/100))/1000)*5\n",
    "\n",
    "            if(label_mode == 1):\n",
    "                # Append the results to energy_df\n",
    "                label1_df = label1_df.append({\"Label\": label_mode, \"participant\": participant_mode, \"Bias\" : 1, \"EEAC\": EEAC, \"Age*EEAC\": person_demo['Age'].values[0]*EEAC, \"Height*EEAC\": person_demo['Weight'].values[0]*EEAC, \"Weight*EEAC\": person_demo['Height'].values[0]*EEAC, \"EE[Kcal/min]\" : EE}, ignore_index=True)\n",
    "            if(label_mode == 2):\n",
    "                # Append the results to energy_df\n",
    "                label2_df = label2_df.append({\"Label\": label_mode, \"participant\": participant_mode, \"Bias\" : 1, \"EEAC\": EEAC, \"Age*EEAC\": person_demo['Age'].values[0]*EEAC, \"Height*EEAC\": person_demo['Weight'].values[0]*EEAC, \"Weight*EEAC\": person_demo['Height'].values[0]*EEAC, \"EE[Kcal/min]\" : EE}, ignore_index=True)\n",
    "            if(label_mode == 3):\n",
    "                # Append the results to energy_df\n",
    "                label3_df = label3_df.append({\"Label\": label_mode, \"participant\": participant_mode, \"Bias\" : 1, \"EEAC\": EEAC, \"Age*EEAC\": person_demo['Age'].values[0]*EEAC, \"Height*EEAC\": person_demo['Weight'].values[0]*EEAC, \"Weight*EEAC\": person_demo['Height'].values[0]*EEAC, \"EE[Kcal/min]\" : EE}, ignore_index=True)\n",
    "            if(label_mode == 4):\n",
    "                # Append the results to energy_df\n",
    "                label4_df = label4_df.append({\"Label\": label_mode, \"participant\": participant_mode, \"Bias\" : 1, \"EEAC\": EEAC, \"Age*EEAC\": person_demo['Age'].values[0]*EEAC, \"Height*EEAC\": person_demo['Weight'].values[0]*EEAC, \"Weight*EEAC\": person_demo['Height'].values[0]*EEAC, \"EE[Kcal/min]\" : EE}, ignore_index=True)\n",
    "            if(label_mode == 5):\n",
    "                # Append the results to energy_df\n",
    "                label5_df = label5_df.append({\"Label\": label_mode, \"participant\": participant_mode, \"Bias\" : 1, \"EEAC\": EEAC, \"Age*EEAC\": person_demo['Age'].values[0]*EEAC, \"Height*EEAC\": person_demo['Weight'].values[0]*EEAC, \"Weight*EEAC\": person_demo['Height'].values[0]*EEAC, \"EE[Kcal/min]\" : EE}, ignore_index=True)\n",
    "            if(label_mode == 6):\n",
    "                # Append the results to energy_df\n",
    "                label6_df = label6_df.append({\"Label\": label_mode, \"participant\": participant_mode, \"Bias\" : 1, \"EEAC\": EEAC, \"Age*EEAC\": person_demo['Age'].values[0]*EEAC, \"Height*EEAC\": person_demo['Weight'].values[0]*EEAC, \"Weight*EEAC\": person_demo['Height'].values[0]*EEAC, \"EE[Kcal/min]\" : EE}, ignore_index=True)\n"
   ]
  },
  {
   "cell_type": "code",
   "execution_count": 176,
   "id": "ceba0cb6-0550-4c05-86d0-452c18f39c0f",
   "metadata": {
    "tags": []
   },
   "outputs": [
    {
     "data": {
      "text/html": [
       "<div>\n",
       "<style scoped>\n",
       "    .dataframe tbody tr th:only-of-type {\n",
       "        vertical-align: middle;\n",
       "    }\n",
       "\n",
       "    .dataframe tbody tr th {\n",
       "        vertical-align: top;\n",
       "    }\n",
       "\n",
       "    .dataframe thead th {\n",
       "        text-align: right;\n",
       "    }\n",
       "</style>\n",
       "<table border=\"1\" class=\"dataframe\">\n",
       "  <thead>\n",
       "    <tr style=\"text-align: right;\">\n",
       "      <th></th>\n",
       "      <th>Label</th>\n",
       "      <th>participant</th>\n",
       "      <th>Bias</th>\n",
       "      <th>EEAC</th>\n",
       "      <th>Age*EEAC</th>\n",
       "      <th>Height*EEAC</th>\n",
       "      <th>Weight*EEAC</th>\n",
       "      <th>EE[Kcal/min]</th>\n",
       "    </tr>\n",
       "  </thead>\n",
       "  <tbody>\n",
       "    <tr>\n",
       "      <th>0</th>\n",
       "      <td>1</td>\n",
       "      <td>P09</td>\n",
       "      <td>1</td>\n",
       "      <td>16334.571596</td>\n",
       "      <td>441033.433083</td>\n",
       "      <td>1.241427e+06</td>\n",
       "      <td>2.891219e+06</td>\n",
       "      <td>0.938438</td>\n",
       "    </tr>\n",
       "    <tr>\n",
       "      <th>1</th>\n",
       "      <td>1</td>\n",
       "      <td>P09</td>\n",
       "      <td>1</td>\n",
       "      <td>16332.636069</td>\n",
       "      <td>440981.173860</td>\n",
       "      <td>1.241280e+06</td>\n",
       "      <td>2.890877e+06</td>\n",
       "      <td>0.938438</td>\n",
       "    </tr>\n",
       "    <tr>\n",
       "      <th>2</th>\n",
       "      <td>1</td>\n",
       "      <td>P09</td>\n",
       "      <td>1</td>\n",
       "      <td>16332.858864</td>\n",
       "      <td>440987.189325</td>\n",
       "      <td>1.241297e+06</td>\n",
       "      <td>2.890916e+06</td>\n",
       "      <td>0.938438</td>\n",
       "    </tr>\n",
       "    <tr>\n",
       "      <th>3</th>\n",
       "      <td>1</td>\n",
       "      <td>P09</td>\n",
       "      <td>1</td>\n",
       "      <td>16333.898543</td>\n",
       "      <td>441015.260658</td>\n",
       "      <td>1.241376e+06</td>\n",
       "      <td>2.891100e+06</td>\n",
       "      <td>0.938438</td>\n",
       "    </tr>\n",
       "    <tr>\n",
       "      <th>4</th>\n",
       "      <td>1</td>\n",
       "      <td>P09</td>\n",
       "      <td>1</td>\n",
       "      <td>16333.519249</td>\n",
       "      <td>441005.019728</td>\n",
       "      <td>1.241347e+06</td>\n",
       "      <td>2.891033e+06</td>\n",
       "      <td>0.938438</td>\n",
       "    </tr>\n",
       "    <tr>\n",
       "      <th>...</th>\n",
       "      <td>...</td>\n",
       "      <td>...</td>\n",
       "      <td>...</td>\n",
       "      <td>...</td>\n",
       "      <td>...</td>\n",
       "      <td>...</td>\n",
       "      <td>...</td>\n",
       "      <td>...</td>\n",
       "    </tr>\n",
       "    <tr>\n",
       "      <th>3194</th>\n",
       "      <td>1</td>\n",
       "      <td>P08</td>\n",
       "      <td>1</td>\n",
       "      <td>16429.684073</td>\n",
       "      <td>542179.574424</td>\n",
       "      <td>1.406381e+06</td>\n",
       "      <td>2.957343e+06</td>\n",
       "      <td>1.045910</td>\n",
       "    </tr>\n",
       "    <tr>\n",
       "      <th>3195</th>\n",
       "      <td>1</td>\n",
       "      <td>P08</td>\n",
       "      <td>1</td>\n",
       "      <td>16437.579029</td>\n",
       "      <td>542440.107968</td>\n",
       "      <td>1.407057e+06</td>\n",
       "      <td>2.958764e+06</td>\n",
       "      <td>1.045910</td>\n",
       "    </tr>\n",
       "    <tr>\n",
       "      <th>3196</th>\n",
       "      <td>1</td>\n",
       "      <td>P08</td>\n",
       "      <td>1</td>\n",
       "      <td>16428.862580</td>\n",
       "      <td>542152.465155</td>\n",
       "      <td>1.406311e+06</td>\n",
       "      <td>2.957195e+06</td>\n",
       "      <td>1.015308</td>\n",
       "    </tr>\n",
       "    <tr>\n",
       "      <th>3197</th>\n",
       "      <td>1</td>\n",
       "      <td>P08</td>\n",
       "      <td>1</td>\n",
       "      <td>16437.105248</td>\n",
       "      <td>542424.473168</td>\n",
       "      <td>1.407016e+06</td>\n",
       "      <td>2.958679e+06</td>\n",
       "      <td>1.015308</td>\n",
       "    </tr>\n",
       "    <tr>\n",
       "      <th>3198</th>\n",
       "      <td>1</td>\n",
       "      <td>P08</td>\n",
       "      <td>1</td>\n",
       "      <td>16433.069968</td>\n",
       "      <td>542291.308931</td>\n",
       "      <td>1.406671e+06</td>\n",
       "      <td>2.957953e+06</td>\n",
       "      <td>1.015308</td>\n",
       "    </tr>\n",
       "  </tbody>\n",
       "</table>\n",
       "<p>3198 rows × 8 columns</p>\n",
       "</div>"
      ],
      "text/plain": [
       "      Label participant  Bias          EEAC       Age*EEAC   Height*EEAC  \\\n",
       "0         1         P09     1  16334.571596  441033.433083  1.241427e+06   \n",
       "1         1         P09     1  16332.636069  440981.173860  1.241280e+06   \n",
       "2         1         P09     1  16332.858864  440987.189325  1.241297e+06   \n",
       "3         1         P09     1  16333.898543  441015.260658  1.241376e+06   \n",
       "4         1         P09     1  16333.519249  441005.019728  1.241347e+06   \n",
       "...     ...         ...   ...           ...            ...           ...   \n",
       "3194      1         P08     1  16429.684073  542179.574424  1.406381e+06   \n",
       "3195      1         P08     1  16437.579029  542440.107968  1.407057e+06   \n",
       "3196      1         P08     1  16428.862580  542152.465155  1.406311e+06   \n",
       "3197      1         P08     1  16437.105248  542424.473168  1.407016e+06   \n",
       "3198      1         P08     1  16433.069968  542291.308931  1.406671e+06   \n",
       "\n",
       "       Weight*EEAC  EE[Kcal/min]  \n",
       "0     2.891219e+06      0.938438  \n",
       "1     2.890877e+06      0.938438  \n",
       "2     2.890916e+06      0.938438  \n",
       "3     2.891100e+06      0.938438  \n",
       "4     2.891033e+06      0.938438  \n",
       "...            ...           ...  \n",
       "3194  2.957343e+06      1.045910  \n",
       "3195  2.958764e+06      1.045910  \n",
       "3196  2.957195e+06      1.015308  \n",
       "3197  2.958679e+06      1.015308  \n",
       "3198  2.957953e+06      1.015308  \n",
       "\n",
       "[3198 rows x 8 columns]"
      ]
     },
     "execution_count": 176,
     "metadata": {},
     "output_type": "execute_result"
    }
   ],
   "source": [
    "label1_df"
   ]
  },
  {
   "cell_type": "code",
   "execution_count": 116,
   "id": "b4e6a9d0-92d0-46b9-ba64-f018bdf38d41",
   "metadata": {
    "tags": []
   },
   "outputs": [
    {
     "data": {
      "text/plain": [
       "Label              1\n",
       "participant       12\n",
       "Bias               1\n",
       "EEAC            3199\n",
       "Age*EEAC        3199\n",
       "Height*EEAC     3199\n",
       "Weight*EEAC     3199\n",
       "EE[Kcal/min]     865\n",
       "dtype: int64"
      ]
     },
     "execution_count": 116,
     "metadata": {},
     "output_type": "execute_result"
    }
   ],
   "source": [
    "label1_df.nunique()"
   ]
  },
  {
   "cell_type": "code",
   "execution_count": 117,
   "id": "b1fc8483-3578-461e-bbf4-d544b496190a",
   "metadata": {
    "tags": []
   },
   "outputs": [
    {
     "data": {
      "text/plain": [
       "Label           0\n",
       "participant     0\n",
       "Bias            0\n",
       "EEAC            0\n",
       "Age*EEAC        0\n",
       "Height*EEAC     0\n",
       "Weight*EEAC     0\n",
       "EE[Kcal/min]    1\n",
       "dtype: int64"
      ]
     },
     "execution_count": 117,
     "metadata": {},
     "output_type": "execute_result"
    }
   ],
   "source": [
    "label1_df.isna().sum()"
   ]
  },
  {
   "cell_type": "code",
   "execution_count": 118,
   "id": "a1cbaeed-2fdb-49c4-ad5a-3ba74607bdaa",
   "metadata": {
    "tags": []
   },
   "outputs": [],
   "source": [
    "label1_df = label1_df.dropna()\n",
    "label2_df = label2_df.dropna()\n",
    "label3_df = label3_df.dropna()\n",
    "label4_df = label4_df.dropna()\n",
    "label5_df = label5_df.dropna()\n",
    "label6_df = label6_df.dropna()"
   ]
  },
  {
   "cell_type": "code",
   "execution_count": 180,
   "id": "5c382ca2-20c6-4ebc-abe9-11dd006b954b",
   "metadata": {
    "tags": []
   },
   "outputs": [
    {
     "name": "stdout",
     "output_type": "stream",
     "text": [
      "15.51749684722223\n"
     ]
    }
   ],
   "source": [
    "df = label1_df.loc[label1_df['participant'] == 'P04']\n",
    "df\n",
    "print((sum(df.iloc[:,-1][:60])/3600)*1000)"
   ]
  },
  {
   "cell_type": "code",
   "execution_count": 120,
   "id": "6be2debf-d3e6-41a4-a249-86bdfd840894",
   "metadata": {
    "tags": []
   },
   "outputs": [
    {
     "data": {
      "text/html": [
       "<div>\n",
       "<style scoped>\n",
       "    .dataframe tbody tr th:only-of-type {\n",
       "        vertical-align: middle;\n",
       "    }\n",
       "\n",
       "    .dataframe tbody tr th {\n",
       "        vertical-align: top;\n",
       "    }\n",
       "\n",
       "    .dataframe thead th {\n",
       "        text-align: right;\n",
       "    }\n",
       "</style>\n",
       "<table border=\"1\" class=\"dataframe\">\n",
       "  <thead>\n",
       "    <tr style=\"text-align: right;\">\n",
       "      <th></th>\n",
       "      <th>Label</th>\n",
       "      <th>Bias</th>\n",
       "      <th>EEAC</th>\n",
       "      <th>Age*EEAC</th>\n",
       "      <th>Height*EEAC</th>\n",
       "      <th>Weight*EEAC</th>\n",
       "      <th>EE[Kcal/min]</th>\n",
       "    </tr>\n",
       "  </thead>\n",
       "  <tbody>\n",
       "    <tr>\n",
       "      <th>count</th>\n",
       "      <td>3937.0</td>\n",
       "      <td>3937.0</td>\n",
       "      <td>3937.000000</td>\n",
       "      <td>3937.000000</td>\n",
       "      <td>3.937000e+03</td>\n",
       "      <td>3.937000e+03</td>\n",
       "      <td>3937.000000</td>\n",
       "    </tr>\n",
       "    <tr>\n",
       "      <th>mean</th>\n",
       "      <td>4.0</td>\n",
       "      <td>1.0</td>\n",
       "      <td>16435.037510</td>\n",
       "      <td>504733.205050</td>\n",
       "      <td>1.216915e+06</td>\n",
       "      <td>2.854565e+06</td>\n",
       "      <td>4.329521</td>\n",
       "    </tr>\n",
       "    <tr>\n",
       "      <th>std</th>\n",
       "      <td>0.0</td>\n",
       "      <td>0.0</td>\n",
       "      <td>259.445178</td>\n",
       "      <td>88875.685995</td>\n",
       "      <td>1.988965e+05</td>\n",
       "      <td>1.238949e+05</td>\n",
       "      <td>2.247248</td>\n",
       "    </tr>\n",
       "    <tr>\n",
       "      <th>min</th>\n",
       "      <td>4.0</td>\n",
       "      <td>1.0</td>\n",
       "      <td>15374.856345</td>\n",
       "      <td>378802.590794</td>\n",
       "      <td>8.636980e+05</td>\n",
       "      <td>2.582976e+06</td>\n",
       "      <td>0.740119</td>\n",
       "    </tr>\n",
       "    <tr>\n",
       "      <th>25%</th>\n",
       "      <td>4.0</td>\n",
       "      <td>1.0</td>\n",
       "      <td>16270.616148</td>\n",
       "      <td>437866.406698</td>\n",
       "      <td>1.073232e+06</td>\n",
       "      <td>2.739000e+06</td>\n",
       "      <td>2.587305</td>\n",
       "    </tr>\n",
       "    <tr>\n",
       "      <th>50%</th>\n",
       "      <td>4.0</td>\n",
       "      <td>1.0</td>\n",
       "      <td>16393.897032</td>\n",
       "      <td>473486.427397</td>\n",
       "      <td>1.229555e+06</td>\n",
       "      <td>2.873369e+06</td>\n",
       "      <td>3.635626</td>\n",
       "    </tr>\n",
       "    <tr>\n",
       "      <th>75%</th>\n",
       "      <td>4.0</td>\n",
       "      <td>1.0</td>\n",
       "      <td>16537.972993</td>\n",
       "      <td>544757.901879</td>\n",
       "      <td>1.342759e+06</td>\n",
       "      <td>2.949187e+06</td>\n",
       "      <td>5.763232</td>\n",
       "    </tr>\n",
       "    <tr>\n",
       "      <th>max</th>\n",
       "      <td>4.0</td>\n",
       "      <td>1.0</td>\n",
       "      <td>17871.074277</td>\n",
       "      <td>713457.079097</td>\n",
       "      <td>1.668882e+06</td>\n",
       "      <td>3.184108e+06</td>\n",
       "      <td>10.593450</td>\n",
       "    </tr>\n",
       "  </tbody>\n",
       "</table>\n",
       "</div>"
      ],
      "text/plain": [
       "        Label    Bias          EEAC       Age*EEAC   Height*EEAC  \\\n",
       "count  3937.0  3937.0   3937.000000    3937.000000  3.937000e+03   \n",
       "mean      4.0     1.0  16435.037510  504733.205050  1.216915e+06   \n",
       "std       0.0     0.0    259.445178   88875.685995  1.988965e+05   \n",
       "min       4.0     1.0  15374.856345  378802.590794  8.636980e+05   \n",
       "25%       4.0     1.0  16270.616148  437866.406698  1.073232e+06   \n",
       "50%       4.0     1.0  16393.897032  473486.427397  1.229555e+06   \n",
       "75%       4.0     1.0  16537.972993  544757.901879  1.342759e+06   \n",
       "max       4.0     1.0  17871.074277  713457.079097  1.668882e+06   \n",
       "\n",
       "        Weight*EEAC  EE[Kcal/min]  \n",
       "count  3.937000e+03   3937.000000  \n",
       "mean   2.854565e+06      4.329521  \n",
       "std    1.238949e+05      2.247248  \n",
       "min    2.582976e+06      0.740119  \n",
       "25%    2.739000e+06      2.587305  \n",
       "50%    2.873369e+06      3.635626  \n",
       "75%    2.949187e+06      5.763232  \n",
       "max    3.184108e+06     10.593450  "
      ]
     },
     "execution_count": 120,
     "metadata": {},
     "output_type": "execute_result"
    }
   ],
   "source": [
    "label4_df.describe()"
   ]
  },
  {
   "cell_type": "code",
   "execution_count": 121,
   "id": "15c2b25a-1794-4e48-b6d8-7fd3c4dbc33e",
   "metadata": {},
   "outputs": [],
   "source": [
    "train_label_df_dict = {\n",
    "    1 : label1_df,\n",
    "    2 : label2_df,\n",
    "    3 : label3_df,\n",
    "    4 : label4_df,\n",
    "    5 : label5_df,\n",
    "    6 : label6_df\n",
    "}"
   ]
  },
  {
   "cell_type": "code",
   "execution_count": 122,
   "id": "950fd55d-a239-4aa5-aa00-cbeba870f2ef",
   "metadata": {
    "tags": []
   },
   "outputs": [],
   "source": [
    "def extract_features(data, isfft):\n",
    "    features = []\n",
    "    for axis in ['ax', 'ay', 'az']:\n",
    "        features.append(np.mean(data[axis]))\n",
    "        features.append(np.std(data[axis]))\n",
    "        features.append(np.mean(np.abs(data[axis] - np.mean(data[axis]))))\n",
    "        features.append(np.min(data[axis]))\n",
    "        features.append(np.max(data[axis]))\n",
    "        features.append(np.max(data[axis]) - np.min(data[axis]))\n",
    "        features.append(np.median(data[axis]))\n",
    "        features.append(np.median(np.abs(data[axis] - np.median(data[axis]))))\n",
    "        Q1 = np.percentile(data[axis], 25)\n",
    "        Q3 = np.percentile(data[axis], 75)\n",
    "        features.append(Q3 - Q1)\n",
    "        \n",
    "        if(isfft == False):\n",
    "            features.append(np.sum(data[axis] < 0))\n",
    "            features.append(np.sum(data[axis] > 0))\n",
    "            \n",
    "        features.append(np.sum(data[axis] > np.mean(data[axis])))\n",
    "        diff = np.diff(np.sign(np.diff(data[axis])))\n",
    "        peaks = np.where(diff == 2)[0] + 1\n",
    "        features.append(len(peaks))\n",
    "        features.append(skew(data[axis]))\n",
    "        features.append(kurtosis(data[axis]))\n",
    "        features.append(np.mean(data[axis]**2))\n",
    "        \n",
    "        argmin = data[axis].idxmin()\n",
    "        argmax = data[axis].idxmax()\n",
    "        diff_argmax_argmin = argmax - argmin\n",
    "        \n",
    "        features.append(argmax)\n",
    "        features.append(argmin)\n",
    "        features.append(diff_argmax_argmin)\n",
    "        \n",
    "    \n",
    "     # Aggregate 'energy' and 'average resultant acceleration' for all three axes\n",
    "    avg_resultant_acceleration = np.mean([np.sqrt(np.mean(data[axis]**2)) for axis in ['ax', 'ay', 'az']])\n",
    "    signal_magnitude_area = np.mean([np.sum(np.abs(data[axis])) for axis in ['ax', 'ay', 'az']])\n",
    "    \n",
    "    features.append(avg_resultant_acceleration)\n",
    "    features.append(signal_magnitude_area)\n",
    "\n",
    "    return features"
   ]
  },
  {
   "cell_type": "code",
   "execution_count": 123,
   "id": "7f6ff5d4-a201-4a73-b022-8e03b33cacd4",
   "metadata": {
    "tags": []
   },
   "outputs": [],
   "source": [
    "def windows(persons):\n",
    "    Train = pd.DataFrame()\n",
    "    Test = pd.DataFrame()\n",
    "    stacked_df  = pd.DataFrame()\n",
    "    for pn,person in enumerate(persons):\n",
    "        df = pd.read_csv(f\"refined_labels/{person}-imu-right.csv\")\n",
    "        df = df[['ax','ay','az','Label']]\n",
    "        window_size = 500\n",
    "        overlap = int(window_size * 0.5)\n",
    "        windows = [df[i:i+window_size] for i in range(0, len(df) - window_size + 1, overlap)]\n",
    "        \n",
    "        feature_columns = []  # List to hold the feature column names\n",
    "\n",
    "        # Initialize a DataFrame to store the features\n",
    "        feature_df = pd.DataFrame()\n",
    "\n",
    "        # Find the number of windows that can be created\n",
    "        num_windows = len(df) // overlap - 1\n",
    "        \n",
    "        n_windows[person] = num_windows\n",
    "        for i in range(num_windows):\n",
    "            window = windows[i]\n",
    "\n",
    "            if len(window) < window_size:\n",
    "                continue  # Skip incomplete windows\n",
    "\n",
    "            # Find the most common label in this window\n",
    "            most_common_label = window['Label'].mode().values[0]\n",
    "\n",
    "            # Extract features for each window\n",
    "            window_features = extract_features(window, False)\n",
    "\n",
    "            # Append the label with the highest frequency in this window\n",
    "            window_features.append(most_common_label)\n",
    "\n",
    "            feature_df = feature_df.append(pd.Series(window_features), ignore_index=True)\n",
    "\n",
    "        # Rename the columns for the 50 features\n",
    "        for axis in ['ax', 'ay', 'az']:\n",
    "            for stat in ['mean', 'std', 'absdev', 'min', 'max', 'maxmin', 'median', 'medianabsdev', 'iqr', 'negcount', 'poscount', 'abovemean', 'peakcount', 'skew', 'kurtosis', 'energy','argmax','argmin','arg_diff']:\n",
    "                feature_columns.append(f'{axis}_{stat}')\n",
    "        \n",
    "        feature_columns.append('avg_result_accl')\n",
    "        feature_columns.append('sma')\n",
    "        # Add label column name\n",
    "        feature_columns.append('label')\n",
    "\n",
    "        feature_df.columns = feature_columns\n",
    "        \n",
    "        stacked_df = pd.concat([stacked_df, feature_df], axis=0)\n",
    "        \n",
    "    return stacked_df"
   ]
  },
  {
   "cell_type": "markdown",
   "id": "785128cc-c898-4e78-a394-716580ddf846",
   "metadata": {},
   "source": [
    "## Training model for activity identification"
   ]
  },
  {
   "cell_type": "code",
   "execution_count": 124,
   "id": "481d9277-59f9-4339-a6bc-53c0b9c2c370",
   "metadata": {
    "tags": []
   },
   "outputs": [],
   "source": [
    "n_windows = {}"
   ]
  },
  {
   "cell_type": "code",
   "execution_count": 125,
   "id": "db2963e1-9226-49cd-818d-14303ea5d114",
   "metadata": {},
   "outputs": [],
   "source": [
    "test_windows = windows(test)\n",
    "train_windows = windows(train)"
   ]
  },
  {
   "cell_type": "code",
   "execution_count": 126,
   "id": "124c7fba-2e6b-4636-9fb6-e04f505f107c",
   "metadata": {
    "tags": []
   },
   "outputs": [
    {
     "data": {
      "text/plain": [
       "3452"
      ]
     },
     "execution_count": 126,
     "metadata": {},
     "output_type": "execute_result"
    }
   ],
   "source": [
    "len(test_windows)"
   ]
  },
  {
   "cell_type": "code",
   "execution_count": 127,
   "id": "73ff6ccd-4df6-4b65-be5d-1b268d804423",
   "metadata": {
    "tags": []
   },
   "outputs": [],
   "source": [
    "X_train = train_windows.iloc[:,:-1].values\n",
    "y_train = train_windows.iloc[:,-1].values"
   ]
  },
  {
   "cell_type": "code",
   "execution_count": 128,
   "id": "5263634c-f8ee-4633-bb8f-207734ed6df9",
   "metadata": {
    "tags": []
   },
   "outputs": [],
   "source": [
    "X_test = test_windows.iloc[:,:-1].values\n",
    "y_test = test_windows.iloc[:,-1].values"
   ]
  },
  {
   "cell_type": "code",
   "execution_count": 129,
   "id": "60b49629-012c-4e96-99b0-91009168c851",
   "metadata": {
    "tags": []
   },
   "outputs": [],
   "source": [
    "# standardization\n",
    "scaler = StandardScaler()\n",
    "scaler.fit(X_train)\n",
    "X_train_data = scaler.transform(X_train)\n",
    "X_test_data = scaler.transform(X_test)"
   ]
  },
  {
   "cell_type": "code",
   "execution_count": 130,
   "id": "0f0c1a3f-fe7f-4ea3-86c9-ba542facf3ff",
   "metadata": {
    "tags": []
   },
   "outputs": [
    {
     "name": "stdout",
     "output_type": "stream",
     "text": [
      "Accuracy: 0.8232908458864426\n",
      "\n",
      " -------------Classification Report-------------\n",
      "\n",
      "              precision    recall  f1-score   support\n",
      "\n",
      "         1.0       0.99      0.95      0.97       528\n",
      "         2.0       0.83      0.98      0.90       597\n",
      "         3.0       0.65      0.79      0.71       536\n",
      "         4.0       0.89      0.61      0.72       608\n",
      "         5.0       0.83      0.69      0.75       582\n",
      "         6.0       0.82      0.94      0.88       601\n",
      "\n",
      "    accuracy                           0.82      3452\n",
      "   macro avg       0.83      0.82      0.82      3452\n",
      "weighted avg       0.83      0.82      0.82      3452\n",
      "\n"
     ]
    }
   ],
   "source": [
    "# Decision Tree Classifier model\n",
    "dt = DecisionTreeClassifier()\n",
    "dt.fit(X_train_data, y_train)\n",
    "y_pred_dt = dt.predict(X_test_data)\n",
    "print(\"Accuracy:\", accuracy_score(y_test, y_pred_dt))\n",
    "print(\"\\n -------------Classification Report-------------\\n\")\n",
    "print(classification_report(y_test, y_pred_dt))"
   ]
  },
  {
   "cell_type": "code",
   "execution_count": 131,
   "id": "d953e8e2-c611-4d46-8fdb-37fa5cfa02f9",
   "metadata": {
    "tags": []
   },
   "outputs": [
    {
     "data": {
      "image/png": "[encoded data removed]",
      "text/plain": [
       "<Figure size 640x480 with 2 Axes>"
      ]
     },
     "metadata": {},
     "output_type": "display_data"
    }
   ],
   "source": [
    "labels = [1,2,3,4,5,6]\n",
    "confusion_matrix = cm(y_test, y_pred_dt)\n",
    "sns.heatmap(confusion_matrix, xticklabels=labels, yticklabels=labels, annot=True,linewidths = 0.1, fmt=\"d\", cmap = 'YlGnBu')\n",
    "plt.title(\"Confusion matrix\", fontsize = 15)\n",
    "plt.ylabel('True label')\n",
    "plt.xlabel('Predicted label')\n",
    "plt.show()"
   ]
  },
  {
   "cell_type": "code",
   "execution_count": 132,
   "id": "8810a25f-fecb-4a9b-9be1-9dd9d471ffff",
   "metadata": {
    "tags": []
   },
   "outputs": [],
   "source": [
    "np.set_printoptions(threshold = 10)"
   ]
  },
  {
   "cell_type": "code",
   "execution_count": 133,
   "id": "f0ff4be7-44fa-43df-bbea-a92afa902d4b",
   "metadata": {
    "tags": []
   },
   "outputs": [
    {
     "data": {
      "text/plain": [
       "array([1., 1., 1., ..., 6., 6., 6.])"
      ]
     },
     "execution_count": 133,
     "metadata": {},
     "output_type": "execute_result"
    }
   ],
   "source": [
    "y_pred_dt"
   ]
  },
  {
   "cell_type": "markdown",
   "id": "6bd578ad-5b55-41b6-ba9c-c62a126fb1e4",
   "metadata": {},
   "source": [
    "### Appending predicted labels and making test data for energy expenditure prediction"
   ]
  },
  {
   "cell_type": "code",
   "execution_count": 134,
   "id": "8dbdf6c1-2a9b-44be-89b5-e0cc94af2ad3",
   "metadata": {
    "tags": []
   },
   "outputs": [],
   "source": [
    "test_labels = pd.DataFrame()"
   ]
  },
  {
   "cell_type": "code",
   "execution_count": 135,
   "id": "b6af9bc7-6e04-4f75-971d-7da0e4bcfa76",
   "metadata": {
    "tags": []
   },
   "outputs": [
    {
     "data": {
      "text/html": [
       "<div>\n",
       "<style scoped>\n",
       "    .dataframe tbody tr th:only-of-type {\n",
       "        vertical-align: middle;\n",
       "    }\n",
       "\n",
       "    .dataframe tbody tr th {\n",
       "        vertical-align: top;\n",
       "    }\n",
       "\n",
       "    .dataframe thead th {\n",
       "        text-align: right;\n",
       "    }\n",
       "</style>\n",
       "<table border=\"1\" class=\"dataframe\">\n",
       "  <thead>\n",
       "    <tr style=\"text-align: right;\">\n",
       "      <th></th>\n",
       "      <th>Label</th>\n",
       "      <th>participant</th>\n",
       "      <th>Bias</th>\n",
       "      <th>EEAC</th>\n",
       "      <th>Age*EEAC</th>\n",
       "      <th>Height*EEAC</th>\n",
       "      <th>Weight*EEAC</th>\n",
       "      <th>EE[Kcal/min]</th>\n",
       "    </tr>\n",
       "  </thead>\n",
       "  <tbody>\n",
       "    <tr>\n",
       "      <th>0</th>\n",
       "      <td>1</td>\n",
       "      <td>P09</td>\n",
       "      <td>1</td>\n",
       "      <td>16334.571596</td>\n",
       "      <td>441033.433083</td>\n",
       "      <td>1.241427e+06</td>\n",
       "      <td>2.891219e+06</td>\n",
       "      <td>0.938438</td>\n",
       "    </tr>\n",
       "    <tr>\n",
       "      <th>1</th>\n",
       "      <td>1</td>\n",
       "      <td>P09</td>\n",
       "      <td>1</td>\n",
       "      <td>16332.636069</td>\n",
       "      <td>440981.173860</td>\n",
       "      <td>1.241280e+06</td>\n",
       "      <td>2.890877e+06</td>\n",
       "      <td>0.938438</td>\n",
       "    </tr>\n",
       "    <tr>\n",
       "      <th>2</th>\n",
       "      <td>1</td>\n",
       "      <td>P09</td>\n",
       "      <td>1</td>\n",
       "      <td>16332.858864</td>\n",
       "      <td>440987.189325</td>\n",
       "      <td>1.241297e+06</td>\n",
       "      <td>2.890916e+06</td>\n",
       "      <td>0.938438</td>\n",
       "    </tr>\n",
       "    <tr>\n",
       "      <th>3</th>\n",
       "      <td>1</td>\n",
       "      <td>P09</td>\n",
       "      <td>1</td>\n",
       "      <td>16333.898543</td>\n",
       "      <td>441015.260658</td>\n",
       "      <td>1.241376e+06</td>\n",
       "      <td>2.891100e+06</td>\n",
       "      <td>0.938438</td>\n",
       "    </tr>\n",
       "    <tr>\n",
       "      <th>4</th>\n",
       "      <td>1</td>\n",
       "      <td>P09</td>\n",
       "      <td>1</td>\n",
       "      <td>16333.519249</td>\n",
       "      <td>441005.019728</td>\n",
       "      <td>1.241347e+06</td>\n",
       "      <td>2.891033e+06</td>\n",
       "      <td>0.938438</td>\n",
       "    </tr>\n",
       "    <tr>\n",
       "      <th>...</th>\n",
       "      <td>...</td>\n",
       "      <td>...</td>\n",
       "      <td>...</td>\n",
       "      <td>...</td>\n",
       "      <td>...</td>\n",
       "      <td>...</td>\n",
       "      <td>...</td>\n",
       "      <td>...</td>\n",
       "    </tr>\n",
       "    <tr>\n",
       "      <th>3194</th>\n",
       "      <td>1</td>\n",
       "      <td>P08</td>\n",
       "      <td>1</td>\n",
       "      <td>16429.684073</td>\n",
       "      <td>542179.574424</td>\n",
       "      <td>1.406381e+06</td>\n",
       "      <td>2.957343e+06</td>\n",
       "      <td>1.045910</td>\n",
       "    </tr>\n",
       "    <tr>\n",
       "      <th>3195</th>\n",
       "      <td>1</td>\n",
       "      <td>P08</td>\n",
       "      <td>1</td>\n",
       "      <td>16437.579029</td>\n",
       "      <td>542440.107968</td>\n",
       "      <td>1.407057e+06</td>\n",
       "      <td>2.958764e+06</td>\n",
       "      <td>1.045910</td>\n",
       "    </tr>\n",
       "    <tr>\n",
       "      <th>3196</th>\n",
       "      <td>1</td>\n",
       "      <td>P08</td>\n",
       "      <td>1</td>\n",
       "      <td>16428.862580</td>\n",
       "      <td>542152.465155</td>\n",
       "      <td>1.406311e+06</td>\n",
       "      <td>2.957195e+06</td>\n",
       "      <td>1.015308</td>\n",
       "    </tr>\n",
       "    <tr>\n",
       "      <th>3197</th>\n",
       "      <td>1</td>\n",
       "      <td>P08</td>\n",
       "      <td>1</td>\n",
       "      <td>16437.105248</td>\n",
       "      <td>542424.473168</td>\n",
       "      <td>1.407016e+06</td>\n",
       "      <td>2.958679e+06</td>\n",
       "      <td>1.015308</td>\n",
       "    </tr>\n",
       "    <tr>\n",
       "      <th>3198</th>\n",
       "      <td>1</td>\n",
       "      <td>P08</td>\n",
       "      <td>1</td>\n",
       "      <td>16433.069968</td>\n",
       "      <td>542291.308931</td>\n",
       "      <td>1.406671e+06</td>\n",
       "      <td>2.957953e+06</td>\n",
       "      <td>1.015308</td>\n",
       "    </tr>\n",
       "  </tbody>\n",
       "</table>\n",
       "<p>3198 rows × 8 columns</p>\n",
       "</div>"
      ],
      "text/plain": [
       "      Label participant  Bias          EEAC       Age*EEAC   Height*EEAC  \\\n",
       "0         1         P09     1  16334.571596  441033.433083  1.241427e+06   \n",
       "1         1         P09     1  16332.636069  440981.173860  1.241280e+06   \n",
       "2         1         P09     1  16332.858864  440987.189325  1.241297e+06   \n",
       "3         1         P09     1  16333.898543  441015.260658  1.241376e+06   \n",
       "4         1         P09     1  16333.519249  441005.019728  1.241347e+06   \n",
       "...     ...         ...   ...           ...            ...           ...   \n",
       "3194      1         P08     1  16429.684073  542179.574424  1.406381e+06   \n",
       "3195      1         P08     1  16437.579029  542440.107968  1.407057e+06   \n",
       "3196      1         P08     1  16428.862580  542152.465155  1.406311e+06   \n",
       "3197      1         P08     1  16437.105248  542424.473168  1.407016e+06   \n",
       "3198      1         P08     1  16433.069968  542291.308931  1.406671e+06   \n",
       "\n",
       "       Weight*EEAC  EE[Kcal/min]  \n",
       "0     2.891219e+06      0.938438  \n",
       "1     2.890877e+06      0.938438  \n",
       "2     2.890916e+06      0.938438  \n",
       "3     2.891100e+06      0.938438  \n",
       "4     2.891033e+06      0.938438  \n",
       "...            ...           ...  \n",
       "3194  2.957343e+06      1.045910  \n",
       "3195  2.958764e+06      1.045910  \n",
       "3196  2.957195e+06      1.015308  \n",
       "3197  2.958679e+06      1.015308  \n",
       "3198  2.957953e+06      1.015308  \n",
       "\n",
       "[3198 rows x 8 columns]"
      ]
     },
     "execution_count": 135,
     "metadata": {},
     "output_type": "execute_result"
    }
   ],
   "source": [
    "label1_df"
   ]
  },
  {
   "cell_type": "code",
   "execution_count": 136,
   "id": "3ae15828-d9de-4ae8-9ae6-df323d68dac0",
   "metadata": {
    "tags": []
   },
   "outputs": [],
   "source": [
    "predict_dfs = {}"
   ]
  },
  {
   "cell_type": "code",
   "execution_count": 137,
   "id": "f83a27c3-7889-4024-bdf7-71f681eace4c",
   "metadata": {
    "tags": []
   },
   "outputs": [
    {
     "name": "stdout",
     "output_type": "stream",
     "text": [
      "220927 220927\n",
      "213100 213100\n",
      "219400 219400\n",
      "211203 211203\n"
     ]
    }
   ],
   "source": [
    "current = 0\n",
    "\n",
    "for person in test:\n",
    "    df = getdf(person)[['timestamp','ax','ay','az']]\n",
    "    window_size = 250\n",
    "    \n",
    "    num_repeats = len(df) // window_size - 1\n",
    "    # print(num_repeats, n_windows[person])\n",
    "    y_pred_p = y_pred_dt[current:current+n_windows[person]]\n",
    "    current += n_windows[person]\n",
    "    \n",
    "    labels = []\n",
    "    for i in range(num_repeats):\n",
    "        for j in range(window_size):\n",
    "            labels.append(y_pred_p[i])\n",
    "            \n",
    "    labels += [y_pred_p[-1]] * (len(df) - len(labels))\n",
    "    df['Label'] = labels\n",
    "    \n",
    "    print(len(labels), len(df))\n",
    "    \n",
    "    predict_dfs[person] = df"
   ]
  },
  {
   "cell_type": "code",
   "execution_count": 138,
   "id": "c170b11e-7955-46e6-9c8e-fe09d334b309",
   "metadata": {
    "tags": []
   },
   "outputs": [],
   "source": [
    "test_label1_df, test_label2_df, test_label3_df, test_label4_df, test_label5_df, test_label6_df = pd.DataFrame(), pd.DataFrame(), pd.DataFrame(), pd.DataFrame(), pd.DataFrame(), pd.DataFrame()"
   ]
  },
  {
   "cell_type": "code",
   "execution_count": 139,
   "id": "620c1e39-5655-4efb-91fe-a18277c0b2fa",
   "metadata": {
    "tags": []
   },
   "outputs": [
    {
     "name": "stdout",
     "output_type": "stream",
     "text": [
      "P07\n",
      "P13\n",
      "P14\n",
      "P17\n"
     ]
    }
   ],
   "source": [
    "for person in test:\n",
    "    df = predict_dfs[person] # df1\n",
    "    \n",
    "    df['participant'] = person \n",
    "    \n",
    "    VO2_df = get_VO2df(person) #df2\n",
    "    \n",
    "    # Drop rows where 'VO2' column has a value of 0\n",
    "    VO2_df = VO2_df[VO2_df['VO2[mL/min]'] != 0]\n",
    "    \n",
    "    demographics = get_demographics()\n",
    "    \n",
    "    person_demo = demographics[demographics['Participant'] == person]\n",
    "    print(person)\n",
    "    for index, row in VO2_df.iterrows():\n",
    "        # Convert the time to Unix timestamp\n",
    "        unix_time = convert_to_unix_gmt(row['Time'])\n",
    "        \n",
    "        # Select rows from df1 within the time window\n",
    "        selected_rows = df[(df['timestamp'] >= unix_time) & (df['timestamp'] <= unix_time + 1000)]\n",
    "        \n",
    "        if(len(selected_rows) > 0):\n",
    "            # Calculate the result for selected rows\n",
    "            EEAC = (1 / len(selected_rows)) * np.sqrt((selected_rows['ax']**2 + selected_rows['ay']**2 + selected_rows['az']**2)).sum()\n",
    "\n",
    "            # Get the mode of the 'Label' column\n",
    "            label_mode = selected_rows['Label'].mode().values[0]\n",
    "\n",
    "            # Get the mode of the 'participant' column\n",
    "            # Though it will be ensured that all participants will be same in selected_rows.\n",
    "            # But just in case if in future code changes therefore applying for future reliability.\n",
    "            participant_mode = selected_rows['participant'].mode().values[0]\n",
    "\n",
    "            # Get the corresponding VO2 and FeO2 values from df2\n",
    "            vo2 = row['VO2[mL/min]']\n",
    "            feo2 = row['FeO2[%]']\n",
    "\n",
    "            EE = ((vo2 - vo2*(feo2/100))/1000)*5\n",
    "\n",
    "            if(label_mode == 1):\n",
    "                # Append the results to energy_df\n",
    "                test_label1_df = label1_df.append({\"Label\": label_mode, \"participant\": participant_mode, \"Bias\" : 1, \"EEAC\": EEAC, \"Age*EEAC\": person_demo['Age'].values[0]*EEAC, \"Height*EEAC\": person_demo['Weight'].values[0]*EEAC, \"Weight*EEAC\": person_demo['Height'].values[0]*EEAC, \"EE[Kcal/min]\" : EE}, ignore_index=True)\n",
    "            if(label_mode == 2):\n",
    "                # Append the results to energy_df\n",
    "                test_label2_df = label2_df.append({\"Label\": label_mode, \"participant\": participant_mode, \"Bias\" : 1, \"EEAC\": EEAC, \"Age*EEAC\": person_demo['Age'].values[0]*EEAC, \"Height*EEAC\": person_demo['Weight'].values[0]*EEAC, \"Weight*EEAC\": person_demo['Height'].values[0]*EEAC, \"EE[Kcal/min]\" : EE}, ignore_index=True)\n",
    "            if(label_mode == 3):\n",
    "                # Append the results to energy_df\n",
    "                test_label3_df = label3_df.append({\"Label\": label_mode, \"participant\": participant_mode, \"Bias\" : 1, \"EEAC\": EEAC, \"Age*EEAC\": person_demo['Age'].values[0]*EEAC, \"Height*EEAC\": person_demo['Weight'].values[0]*EEAC, \"Weight*EEAC\": person_demo['Height'].values[0]*EEAC, \"EE[Kcal/min]\" : EE}, ignore_index=True)\n",
    "            if(label_mode == 4):\n",
    "                # Append the results to energy_df\n",
    "                test_label4_df = label4_df.append({\"Label\": label_mode, \"participant\": participant_mode, \"Bias\" : 1, \"EEAC\": EEAC, \"Age*EEAC\": person_demo['Age'].values[0]*EEAC, \"Height*EEAC\": person_demo['Weight'].values[0]*EEAC, \"Weight*EEAC\": person_demo['Height'].values[0]*EEAC, \"EE[Kcal/min]\" : EE}, ignore_index=True)\n",
    "            if(label_mode == 5):\n",
    "                # Append the results to energy_df\n",
    "                test_label5_df = label5_df.append({\"Label\": label_mode, \"participant\": participant_mode, \"Bias\" : 1, \"EEAC\": EEAC, \"Age*EEAC\": person_demo['Age'].values[0]*EEAC, \"Height*EEAC\": person_demo['Weight'].values[0]*EEAC, \"Weight*EEAC\": person_demo['Height'].values[0]*EEAC, \"EE[Kcal/min]\" : EE}, ignore_index=True)\n",
    "            if(label_mode == 6):\n",
    "                # Append the results to energy_df\n",
    "                test_label6_df = label6_df.append({\"Label\": label_mode, \"participant\": participant_mode, \"Bias\" : 1, \"EEAC\": EEAC, \"Age*EEAC\": person_demo['Age'].values[0]*EEAC, \"Height*EEAC\": person_demo['Weight'].values[0]*EEAC, \"Weight*EEAC\": person_demo['Height'].values[0]*EEAC, \"EE[Kcal/min]\" : EE}, ignore_index=True)"
   ]
  },
  {
   "cell_type": "code",
   "execution_count": 140,
   "id": "2afe8b4b-885f-4327-bdd1-3b06520daafb",
   "metadata": {
    "tags": []
   },
   "outputs": [
    {
     "data": {
      "text/plain": [
       "Label           0\n",
       "participant     0\n",
       "Bias            0\n",
       "EEAC            0\n",
       "Age*EEAC        0\n",
       "Height*EEAC     0\n",
       "Weight*EEAC     0\n",
       "EE[Kcal/min]    0\n",
       "dtype: int64"
      ]
     },
     "execution_count": 140,
     "metadata": {},
     "output_type": "execute_result"
    }
   ],
   "source": [
    "label6_df.isna().sum()"
   ]
  },
  {
   "cell_type": "code",
   "execution_count": 141,
   "id": "2c5020f0-5fb2-424b-bad3-4af7b61d7a3d",
   "metadata": {
    "tags": []
   },
   "outputs": [],
   "source": [
    "test_label1_df = test_label1_df.dropna()\n",
    "test_label2_df = test_label2_df.dropna()\n",
    "test_label3_df = test_label3_df.dropna()\n",
    "test_label4_df = test_label4_df.dropna()\n",
    "test_label5_df = test_label5_df.dropna()\n",
    "test_label6_df = test_label6_df.dropna()"
   ]
  },
  {
   "cell_type": "code",
   "execution_count": 142,
   "id": "be75d96e-87b4-4dea-a5bf-debe0b59c6da",
   "metadata": {
    "tags": []
   },
   "outputs": [],
   "source": [
    "test_label_df_dict = {\n",
    "    1 : test_label1_df,\n",
    "    2 : test_label2_df,\n",
    "    3 : test_label3_df,\n",
    "    4 : test_label4_df,\n",
    "    5 : test_label5_df,\n",
    "    6 : test_label6_df\n",
    "}"
   ]
  },
  {
   "cell_type": "markdown",
   "id": "694470e3-605b-4ffb-8a14-f1ab2a2eb961",
   "metadata": {
    "tags": []
   },
   "source": [
    "### Training Regression Models for each Activity"
   ]
  },
  {
   "cell_type": "code",
   "execution_count": 143,
   "id": "4472858c-202a-4333-a45c-937092af667b",
   "metadata": {},
   "outputs": [],
   "source": [
    "def fit(model, X, y):\n",
    "    return model.fit(X,y)\n",
    "\n",
    "def get_Xy_train(label):\n",
    "    features = ['Bias', 'EEAC', 'Age*EEAC', 'Height*EEAC', 'Weight*EEAC']\n",
    "    df = train_label_df_dict[label]\n",
    "    X = df[features]\n",
    "    y = df[['EE[Kcal/min]']]\n",
    "    \n",
    "    return X, y\n",
    "\n",
    "def get_Xy_test(label):\n",
    "    features = ['Bias', 'EEAC', 'Age*EEAC', 'Height*EEAC', 'Weight*EEAC']\n",
    "    df = test_label_df_dict[label]\n",
    "    X = df[features]\n",
    "    y = df[['EE[Kcal/min]']]\n",
    "    \n",
    "    return X, y"
   ]
  },
  {
   "cell_type": "code",
   "execution_count": 152,
   "id": "323a47ab-23c7-4f45-bd5e-e82fc5bcfa25",
   "metadata": {
    "tags": []
   },
   "outputs": [],
   "source": [
    "models = {\n",
    "    'lr' : LinearRegression(),\n",
    "    'ridge' : Ridge(),\n",
    "    'lasso' : Lasso(),\n",
    "    'svr' : SVR(),\n",
    "    'dtr' : DecisionTreeRegressor(),\n",
    "    'rfr' : RandomForestRegressor(),\n",
    "    'gbr' : GradientBoostingRegressor()\n",
    "}"
   ]
  },
  {
   "cell_type": "code",
   "execution_count": 161,
   "id": "5b56430d-f4c9-47c3-950e-6c6925128548",
   "metadata": {
    "tags": []
   },
   "outputs": [],
   "source": [
    "def regress(model):\n",
    "    m1 = copy.deepcopy(models[model])\n",
    "    m2 = copy.deepcopy(models[model])\n",
    "    m3 = copy.deepcopy(models[model])\n",
    "    m4 = copy.deepcopy(models[model])\n",
    "    m5 = copy.deepcopy(models[model])\n",
    "    m6 = copy.deepcopy(models[model])\n",
    "\n",
    "    reg_l1 = fit(m1, get_Xy_train(1)[0], get_Xy_train(1)[1])\n",
    "    reg_l2 = fit(m2, get_Xy_train(2)[0], get_Xy_train(2)[1])\n",
    "    reg_l3 = fit(m3, get_Xy_train(3)[0], get_Xy_train(3)[1])\n",
    "    reg_l4 = fit(m4, get_Xy_train(4)[0], get_Xy_train(4)[1])\n",
    "    reg_l5 = fit(m5, get_Xy_train(5)[0], get_Xy_train(5)[1])\n",
    "    reg_l6 = fit(m6, get_Xy_train(6)[0], get_Xy_train(6)[1])\n",
    "\n",
    "    print(\"Mean square error for Label 1: \",mean_squared_error(get_Xy_test(1)[1], reg_l1.predict(get_Xy_test(1)[0])))\n",
    "    print(\"Mean square error for Label 2: \",mean_squared_error(get_Xy_test(2)[1], reg_l2.predict(get_Xy_test(2)[0])))\n",
    "    print(\"Mean square error for Label 3: \",mean_squared_error(get_Xy_test(3)[1], reg_l3.predict(get_Xy_test(3)[0])))\n",
    "    print(\"Mean square error for Label 4: \",mean_squared_error(get_Xy_test(4)[1], reg_l4.predict(get_Xy_test(4)[0])))\n",
    "    print(\"Mean square error for Label 5: \",mean_squared_error(get_Xy_test(5)[1], reg_l5.predict(get_Xy_test(5)[0])))\n",
    "    print(\"Mean square error for Label 6: \",mean_squared_error(get_Xy_test(6)[1], reg_l6.predict(get_Xy_test(6)[0])))"
   ]
  },
  {
   "cell_type": "code",
   "execution_count": 162,
   "id": "3e446d24-55c7-4994-8393-87fb17648a2c",
   "metadata": {
    "tags": []
   },
   "outputs": [
    {
     "name": "stdout",
     "output_type": "stream",
     "text": [
      "Mean square error for Label 1:  0.04903958185084915\n",
      "Mean square error for Label 2:  0.35212516994716037\n",
      "Mean square error for Label 3:  0.9548890674680578\n",
      "Mean square error for Label 4:  3.1313097945430743\n",
      "Mean square error for Label 5:  2.089225698413919\n",
      "Mean square error for Label 6:  4.790159124631083\n"
     ]
    }
   ],
   "source": [
    "regress('lr')"
   ]
  },
  {
   "cell_type": "code",
   "execution_count": 163,
   "id": "4150633e-f1bf-4bf4-911a-f4f6d96b04aa",
   "metadata": {
    "tags": []
   },
   "outputs": [
    {
     "name": "stdout",
     "output_type": "stream",
     "text": [
      "Mean square error for Label 1:  0.049039581850878894\n",
      "Mean square error for Label 2:  0.3521251700271867\n",
      "Mean square error for Label 3:  0.9548890672878966\n",
      "Mean square error for Label 4:  3.1313097945348667\n",
      "Mean square error for Label 5:  2.0892256984124358\n",
      "Mean square error for Label 6:  4.79015912463143\n"
     ]
    }
   ],
   "source": [
    "regress('ridge')"
   ]
  },
  {
   "cell_type": "code",
   "execution_count": 164,
   "id": "133e767f-e00c-4663-aea2-6702244ff3d9",
   "metadata": {
    "tags": []
   },
   "outputs": [
    {
     "name": "stdout",
     "output_type": "stream",
     "text": [
      "Mean square error for Label 1:  0.049161394508171585\n",
      "Mean square error for Label 2:  0.35310155744865107\n",
      "Mean square error for Label 3:  0.9546245572312885\n",
      "Mean square error for Label 4:  3.131302988270363\n",
      "Mean square error for Label 5:  2.0892235166238207\n",
      "Mean square error for Label 6:  4.790171228247637\n"
     ]
    }
   ],
   "source": [
    "regress('lasso')"
   ]
  },
  {
   "cell_type": "code",
   "execution_count": 165,
   "id": "13f0e160-3889-4bc1-adbf-9fa242b63af8",
   "metadata": {
    "tags": []
   },
   "outputs": [
    {
     "name": "stdout",
     "output_type": "stream",
     "text": [
      "Mean square error for Label 1:  0.04023622981108958\n",
      "Mean square error for Label 2:  0.39305219470681896\n",
      "Mean square error for Label 3:  0.9994933630973131\n",
      "Mean square error for Label 4:  3.1510326640434894\n",
      "Mean square error for Label 5:  2.0194157223841445\n",
      "Mean square error for Label 6:  4.93573519466593\n"
     ]
    }
   ],
   "source": [
    "regress('svr')"
   ]
  },
  {
   "cell_type": "code",
   "execution_count": 166,
   "id": "a8732731-078c-4ba7-910f-9f7a4c536c3f",
   "metadata": {
    "tags": []
   },
   "outputs": [
    {
     "name": "stdout",
     "output_type": "stream",
     "text": [
      "Mean square error for Label 1:  0.00017104761036760793\n",
      "Mean square error for Label 2:  0.010195402682417533\n",
      "Mean square error for Label 3:  0.019699852592281346\n",
      "Mean square error for Label 4:  0.007450549954543608\n",
      "Mean square error for Label 5:  0.005820594118490132\n",
      "Mean square error for Label 6:  0.014134320067274237\n"
     ]
    }
   ],
   "source": [
    "regress('dtr')"
   ]
  },
  {
   "cell_type": "code",
   "execution_count": 167,
   "id": "34d997b7-20d2-4b64-8b41-76e509b17fb8",
   "metadata": {
    "tags": []
   },
   "outputs": [
    {
     "name": "stdout",
     "output_type": "stream",
     "text": [
      "Mean square error for Label 1:  0.005679668103407955\n",
      "Mean square error for Label 2:  0.050128313462890546\n",
      "Mean square error for Label 3:  0.12047611597288928\n",
      "Mean square error for Label 4:  0.21487319075284228\n",
      "Mean square error for Label 5:  0.22662713301585455\n",
      "Mean square error for Label 6:  0.3278005956224391\n"
     ]
    }
   ],
   "source": [
    "regress('rfr')"
   ]
  },
  {
   "cell_type": "code",
   "execution_count": 168,
   "id": "e1ce5b8e-8933-4cb0-89ef-cb1f501c1af6",
   "metadata": {
    "tags": []
   },
   "outputs": [
    {
     "name": "stdout",
     "output_type": "stream",
     "text": [
      "Mean square error for Label 1:  0.02522926074268565\n",
      "Mean square error for Label 2:  0.1966767086887461\n",
      "Mean square error for Label 3:  0.4757710430996562\n",
      "Mean square error for Label 4:  0.9811074904117274\n",
      "Mean square error for Label 5:  0.9921952390411769\n",
      "Mean square error for Label 6:  1.5816929700647162\n"
     ]
    }
   ],
   "source": [
    "regress('gbr')"
   ]
  },
  {
   "cell_type": "code",
   "execution_count": 186,
   "id": "2c556a4d-2143-4836-a4bf-3a38941b93ac",
   "metadata": {
    "tags": []
   },
   "outputs": [
    {
     "data": {
      "text/html": [
       "<div>\n",
       "<style scoped>\n",
       "    .dataframe tbody tr th:only-of-type {\n",
       "        vertical-align: middle;\n",
       "    }\n",
       "\n",
       "    .dataframe tbody tr th {\n",
       "        vertical-align: top;\n",
       "    }\n",
       "\n",
       "    .dataframe thead th {\n",
       "        text-align: right;\n",
       "    }\n",
       "</style>\n",
       "<table border=\"1\" class=\"dataframe\">\n",
       "  <thead>\n",
       "    <tr style=\"text-align: right;\">\n",
       "      <th></th>\n",
       "      <th>Label</th>\n",
       "      <th>Bias</th>\n",
       "      <th>EEAC</th>\n",
       "      <th>Age*EEAC</th>\n",
       "      <th>Height*EEAC</th>\n",
       "      <th>Weight*EEAC</th>\n",
       "      <th>EE[Kcal/min]</th>\n",
       "    </tr>\n",
       "  </thead>\n",
       "  <tbody>\n",
       "    <tr>\n",
       "      <th>count</th>\n",
       "      <td>1735.0</td>\n",
       "      <td>1735.0</td>\n",
       "      <td>1735.000000</td>\n",
       "      <td>1735.000000</td>\n",
       "      <td>1.735000e+03</td>\n",
       "      <td>1.735000e+03</td>\n",
       "      <td>1735.000000</td>\n",
       "    </tr>\n",
       "    <tr>\n",
       "      <th>mean</th>\n",
       "      <td>6.0</td>\n",
       "      <td>1.0</td>\n",
       "      <td>16860.243936</td>\n",
       "      <td>525651.956862</td>\n",
       "      <td>1.289434e+06</td>\n",
       "      <td>2.898092e+06</td>\n",
       "      <td>5.859233</td>\n",
       "    </tr>\n",
       "    <tr>\n",
       "      <th>std</th>\n",
       "      <td>0.0</td>\n",
       "      <td>0.0</td>\n",
       "      <td>1067.772437</td>\n",
       "      <td>91544.374496</td>\n",
       "      <td>2.111349e+05</td>\n",
       "      <td>2.165772e+05</td>\n",
       "      <td>2.433531</td>\n",
       "    </tr>\n",
       "    <tr>\n",
       "      <th>min</th>\n",
       "      <td>6.0</td>\n",
       "      <td>1.0</td>\n",
       "      <td>14334.651055</td>\n",
       "      <td>384445.677253</td>\n",
       "      <td>8.702419e+05</td>\n",
       "      <td>2.408221e+06</td>\n",
       "      <td>0.892944</td>\n",
       "    </tr>\n",
       "    <tr>\n",
       "      <th>25%</th>\n",
       "      <td>6.0</td>\n",
       "      <td>1.0</td>\n",
       "      <td>16126.782800</td>\n",
       "      <td>459327.595549</td>\n",
       "      <td>1.138352e+06</td>\n",
       "      <td>2.725214e+06</td>\n",
       "      <td>4.189783</td>\n",
       "    </tr>\n",
       "    <tr>\n",
       "      <th>50%</th>\n",
       "      <td>6.0</td>\n",
       "      <td>1.0</td>\n",
       "      <td>16633.946416</td>\n",
       "      <td>492795.942468</td>\n",
       "      <td>1.227856e+06</td>\n",
       "      <td>2.877477e+06</td>\n",
       "      <td>6.377760</td>\n",
       "    </tr>\n",
       "    <tr>\n",
       "      <th>75%</th>\n",
       "      <td>6.0</td>\n",
       "      <td>1.0</td>\n",
       "      <td>17560.045569</td>\n",
       "      <td>592381.474462</td>\n",
       "      <td>1.425919e+06</td>\n",
       "      <td>3.044634e+06</td>\n",
       "      <td>7.511604</td>\n",
       "    </tr>\n",
       "    <tr>\n",
       "      <th>max</th>\n",
       "      <td>6.0</td>\n",
       "      <td>1.0</td>\n",
       "      <td>20409.509430</td>\n",
       "      <td>836789.886615</td>\n",
       "      <td>1.806939e+06</td>\n",
       "      <td>3.612483e+06</td>\n",
       "      <td>14.490751</td>\n",
       "    </tr>\n",
       "  </tbody>\n",
       "</table>\n",
       "</div>"
      ],
      "text/plain": [
       "        Label    Bias          EEAC       Age*EEAC   Height*EEAC  \\\n",
       "count  1735.0  1735.0   1735.000000    1735.000000  1.735000e+03   \n",
       "mean      6.0     1.0  16860.243936  525651.956862  1.289434e+06   \n",
       "std       0.0     0.0   1067.772437   91544.374496  2.111349e+05   \n",
       "min       6.0     1.0  14334.651055  384445.677253  8.702419e+05   \n",
       "25%       6.0     1.0  16126.782800  459327.595549  1.138352e+06   \n",
       "50%       6.0     1.0  16633.946416  492795.942468  1.227856e+06   \n",
       "75%       6.0     1.0  17560.045569  592381.474462  1.425919e+06   \n",
       "max       6.0     1.0  20409.509430  836789.886615  1.806939e+06   \n",
       "\n",
       "        Weight*EEAC  EE[Kcal/min]  \n",
       "count  1.735000e+03   1735.000000  \n",
       "mean   2.898092e+06      5.859233  \n",
       "std    2.165772e+05      2.433531  \n",
       "min    2.408221e+06      0.892944  \n",
       "25%    2.725214e+06      4.189783  \n",
       "50%    2.877477e+06      6.377760  \n",
       "75%    3.044634e+06      7.511604  \n",
       "max    3.612483e+06     14.490751  "
      ]
     },
     "execution_count": 186,
     "metadata": {},
     "output_type": "execute_result"
    }
   ],
   "source": [
    "label6_df.describe()"
   ]
  },
  {
   "cell_type": "code",
   "execution_count": null,
   "id": "a6d400a5-7382-4f02-b3fc-f3e08b2bd806",
   "metadata": {},
   "outputs": [],
   "source": []
  }
 ],
 "metadata": {
  "kernelspec": {
   "display_name": "Python 3 (ipykernel)",
   "language": "python",
   "name": "python3"
  },
  "language_info": {
   "codemirror_mode": {
    "name": "ipython",
    "version": 3
   },
   "file_extension": ".py",
   "mimetype": "text/x-python",
   "name": "python",
   "nbconvert_exporter": "python",
   "pygments_lexer": "ipython3",
   "version": "3.11.3"
  }
 },
 "nbformat": 4,
 "nbformat_minor": 5
}
