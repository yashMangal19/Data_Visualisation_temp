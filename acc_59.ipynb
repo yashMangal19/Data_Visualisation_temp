{
 "cells": [
  {
   "cell_type": "code",
   "execution_count": 1,
   "id": "5d6d08d2-7a39-4418-8cc4-c76a81662c89",
   "metadata": {
    "tags": []
   },
   "outputs": [],
   "source": [
    "import pandas as pd\n",
    "import numpy as np\n",
    "from datetime import datetime, timezone\n",
    "from scipy.stats import skew, kurtosis\n",
    "from scipy.fftpack import fft\n",
    "import os\n",
    "import seaborn as sns\n",
    "from matplotlib import pyplot as plt\n",
    "\n",
    "from sklearn.preprocessing import StandardScaler\n",
    "from sklearn.metrics import accuracy_score\n",
    "from sklearn.metrics import classification_report\n",
    "from sklearn.metrics import confusion_matrix as cm\n",
    "\n",
    "from sklearn.linear_model import LogisticRegression\n",
    "from sklearn.tree import DecisionTreeClassifier\n",
    "from sklearn.ensemble import RandomForestClassifier\n",
    "from sklearn.naive_bayes import GaussianNB\n",
    "from sklearn.svm import SVC\n",
    "from sklearn.neighbors import KNeighborsClassifier\n",
    "\n",
    "from sklearn.model_selection import train_test_split as tts\n",
    "\n",
    "from sklearn.model_selection import GridSearchCV\n",
    "\n",
    "import warnings\n",
    "warnings.filterwarnings('ignore')"
   ]
  },
  {
   "cell_type": "code",
   "execution_count": 2,
   "id": "8b9d04f7-d60f-4cb6-9717-004e65a876b3",
   "metadata": {
    "tags": []
   },
   "outputs": [],
   "source": [
    "# persons = [ 'P' + f\"{num:02}\" for num in range(1,18)]\n",
    "# persons"
   ]
  },
  {
   "cell_type": "code",
   "execution_count": 3,
   "id": "fa83791e-beed-4089-a3f4-3f167fe43411",
   "metadata": {
    "tags": []
   },
   "outputs": [],
   "source": [
    "# Get a list of all files in the folder\n",
    "files = os.listdir(\"refined_labels\")\n",
    "\n",
    "# Extract the first three letters of the file names and create a list\n",
    "persons = []\n",
    "\n",
    "for file in files:\n",
    "    if(file[0] == 'P'):\n",
    "        persons.append(file[:3])"
   ]
  },
  {
   "cell_type": "code",
   "execution_count": 4,
   "id": "0fc53fd8-6239-45b3-8884-caa893290ddc",
   "metadata": {
    "tags": []
   },
   "outputs": [
    {
     "name": "stdout",
     "output_type": "stream",
     "text": [
      "17\n"
     ]
    }
   ],
   "source": [
    "print(len(persons))"
   ]
  },
  {
   "cell_type": "code",
   "execution_count": 5,
   "id": "6a240976-810e-482c-b13b-6d6170e01320",
   "metadata": {
    "tags": []
   },
   "outputs": [
    {
     "data": {
      "text/plain": [
       "['P09',\n",
       " 'P10',\n",
       " 'P07',\n",
       " 'P03',\n",
       " 'P14',\n",
       " 'P04',\n",
       " 'P13',\n",
       " 'P17',\n",
       " 'P01',\n",
       " 'P16',\n",
       " 'P12',\n",
       " 'P05',\n",
       " 'P15',\n",
       " 'P02',\n",
       " 'P06',\n",
       " 'P11',\n",
       " 'P08']"
      ]
     },
     "execution_count": 5,
     "metadata": {},
     "output_type": "execute_result"
    }
   ],
   "source": [
    "persons"
   ]
  },
  {
   "cell_type": "code",
   "execution_count": 6,
   "id": "0a4bada1-79ce-4693-8807-605397d1384a",
   "metadata": {
    "tags": []
   },
   "outputs": [],
   "source": [
    "test = ['P07','P13','P14','P17']\n",
    "# test = ['P03','P04','P05','P15']\n",
    "train = [x for x in persons if x not in test]"
   ]
  },
  {
   "cell_type": "markdown",
   "id": "b14b5eae-db3b-4abd-8e82-6d91153b89f9",
   "metadata": {},
   "source": [
    "# Extracting Features"
   ]
  },
  {
   "cell_type": "code",
   "execution_count": 7,
   "id": "f2ead30d-6dc3-475d-80c2-f1176b2442bc",
   "metadata": {
    "tags": []
   },
   "outputs": [],
   "source": [
    "def extract_features(data, isfft):\n",
    "    features = []\n",
    "    for axis in ['ax', 'ay', 'az']:\n",
    "        features.append(np.mean(data[axis]))\n",
    "        features.append(np.std(data[axis]))\n",
    "        features.append(np.mean(np.abs(data[axis] - np.mean(data[axis]))))\n",
    "        features.append(np.min(data[axis]))\n",
    "        features.append(np.max(data[axis]))\n",
    "        features.append(np.max(data[axis]) - np.min(data[axis]))\n",
    "        features.append(np.median(data[axis]))\n",
    "        features.append(np.median(np.abs(data[axis] - np.median(data[axis]))))\n",
    "        Q1 = np.percentile(data[axis], 25)\n",
    "        Q3 = np.percentile(data[axis], 75)\n",
    "        features.append(Q3 - Q1)\n",
    "        \n",
    "        if(isfft == False):\n",
    "            features.append(np.sum(data[axis] < 0))\n",
    "            features.append(np.sum(data[axis] > 0))\n",
    "            \n",
    "        features.append(np.sum(data[axis] > np.mean(data[axis])))\n",
    "        diff = np.diff(np.sign(np.diff(data[axis])))\n",
    "        peaks = np.where(diff == 2)[0] + 1\n",
    "        features.append(len(peaks))\n",
    "        features.append(skew(data[axis]))\n",
    "        features.append(kurtosis(data[axis]))\n",
    "        features.append(np.mean(data[axis]**2))\n",
    "        \n",
    "        argmin = data[axis].idxmin()\n",
    "        argmax = data[axis].idxmax()\n",
    "        diff_argmax_argmin = argmax - argmin\n",
    "        \n",
    "        features.append(argmax)\n",
    "        features.append(argmin)\n",
    "        features.append(diff_argmax_argmin)\n",
    "        \n",
    "    \n",
    "     # Aggregate 'energy' and 'average resultant acceleration' for all three axes\n",
    "    avg_resultant_acceleration = np.mean([np.sqrt(np.mean(data[axis]**2)) for axis in ['ax', 'ay', 'az']])\n",
    "    signal_magnitude_area = np.mean([np.sum(np.abs(data[axis])) for axis in ['ax', 'ay', 'az']])\n",
    "    \n",
    "    features.append(avg_resultant_acceleration)\n",
    "    features.append(signal_magnitude_area)\n",
    "\n",
    "    return features\n",
    "\n",
    "# Define a function to compute FFT for a column\n",
    "def compute_fft(column):\n",
    "    fft_result = fft(column)\n",
    "    return np.abs(pd.Series(fft_result))[:250]\n",
    "                        \n",
    "def windows():\n",
    "    Train = pd.DataFrame()\n",
    "    Test = pd.DataFrame()\n",
    "    stacked_df  = pd.DataFrame()\n",
    "    for pn,person in enumerate(persons):\n",
    "        df = pd.read_csv(f\"refined_labels/{person}-imu-right.csv\")\n",
    "        df = df[['ax','ay','az','Label']]\n",
    "        window_size = 500\n",
    "        overlap = int(window_size * 0.5)\n",
    "        windows = [df[i:i+window_size] for i in range(0, len(df) - window_size + 1, overlap)]\n",
    "        \n",
    "        feature_columns = []  # List to hold the feature column names\n",
    "\n",
    "        # Initialize a DataFrame to store the features\n",
    "        feature_df = pd.DataFrame()\n",
    "\n",
    "        # Find the number of windows that can be created\n",
    "        num_windows = len(df) // overlap - 1\n",
    "\n",
    "        for i in range(num_windows):\n",
    "            window = windows[i]\n",
    "\n",
    "            if len(window) < window_size:\n",
    "                continue  # Skip incomplete windows\n",
    "\n",
    "            # Find the most common label in this window\n",
    "            most_common_label = window['Label'].mode().values[0]\n",
    "\n",
    "            # Extract features for each window\n",
    "            window_features = extract_features(window, False)\n",
    "\n",
    "            # Append the label with the highest frequency in this window\n",
    "            window_features.append(most_common_label)\n",
    "\n",
    "            feature_df = feature_df.append(pd.Series(window_features), ignore_index=True)\n",
    "\n",
    "        # Rename the columns for the 50 features\n",
    "        for axis in ['ax', 'ay', 'az']:\n",
    "            for stat in ['mean', 'std', 'absdev', 'min', 'max', 'maxmin', 'median', 'medianabsdev', 'iqr', 'negcount', 'poscount', 'abovemean', 'peakcount', 'skew', 'kurtosis', 'energy','argmax','argmin','arg_diff']:\n",
    "                feature_columns.append(f'{axis}_{stat}')\n",
    "        \n",
    "        feature_columns.append('avg_result_accl')\n",
    "        feature_columns.append('sma')\n",
    "        # Add label column name\n",
    "        feature_columns.append('label')\n",
    "\n",
    "        feature_df.columns = feature_columns\n",
    "        \n",
    "#         # Initialize a new list to store DataFrames\n",
    "#         fft_windows = []\n",
    "#         # Iterate through the original DataFrames\n",
    "#         for w in windows:\n",
    "#             # Create a new DataFrame with the FFT of the first 250 values of 'ax', 'ay', 'az'\n",
    "#             fft_df = pd.DataFrame()\n",
    "#             fft_df['ax'] = compute_fft(w['ax'].values)\n",
    "#             fft_df['ay'] = compute_fft(w['ay'].values)\n",
    "#             fft_df['az'] = compute_fft(w['az'].values)\n",
    "#             fft_df['Label'] = pd.Series(w['Label'].values[:250]) # Keep the original labels\n",
    "            \n",
    "#             # Append the new DataFrame to the list\n",
    "#             fft_windows.append(fft_df)\n",
    "        \n",
    "#         fft_feature_columns = []  # List to hold the feature column names\n",
    "\n",
    "#         # Initialize a DataFrame to store the features\n",
    "#         fft_feature_df = pd.DataFrame()\n",
    "\n",
    "#         # Find the number of windows that can be created\n",
    "#         num_windows = len(fft_windows)\n",
    "\n",
    "#         for i in range(num_windows):\n",
    "#             window = fft_windows[i]\n",
    "\n",
    "#             if len(window) < window_size*0.5:\n",
    "#                 continue  # Skip incomplete windows\n",
    "\n",
    "#             # Extract features for each window\n",
    "#             window_features = extract_features(window, True)\n",
    "\n",
    "#             fft_feature_df = fft_feature_df.append(pd.Series(window_features), ignore_index=True)\n",
    "\n",
    "#         # Rename the columns for the 50 features\n",
    "#         for axis in ['ax', 'ay', 'az']:\n",
    "#             for stat in ['mean', 'std', 'absdev', 'min', 'max', 'maxmin', 'median', 'medianabsdev', 'iqr', 'abovemean', 'peakcount', 'skew', 'kurtosis', 'energy','argmax','argmin','arg_diff']:\n",
    "#                 fft_feature_columns.append(f'fft_{axis}_{stat}')\n",
    "        \n",
    "#         fft_feature_columns.append('fft_avg_result_accl')\n",
    "#         fft_feature_columns.append('fft_sma')\n",
    "        \n",
    "#         fft_feature_df.columns = fft_feature_columns\n",
    "        \n",
    "#         stacked_df = pd.concat([fft_feature_df, feature_df], axis=1)\n",
    "        \n",
    "#         stacked_df['user'] = person\n",
    "        \n",
    "        \n",
    "        stacked_df = pd.concat([stacked_df, feature_df], axis=0)\n",
    "        \n",
    "        # if(person in train):\n",
    "        #     Train = pd.concat([Train, feature_df], axis=0)\n",
    "        # else:\n",
    "        #     Test = pd.concat([Test, feature_df], axis=0)\n",
    "        \n",
    "    return stacked_df\n",
    "                        "
   ]
  },
  {
   "cell_type": "code",
   "execution_count": 9,
   "id": "ab89a527-9f10-4170-b558-dbc94509b2ea",
   "metadata": {
    "tags": []
   },
   "outputs": [],
   "source": [
    "data = windows()"
   ]
  },
  {
   "cell_type": "code",
   "execution_count": 9,
   "id": "d1aced4a-1048-490e-b7e5-e3b1138f7cfe",
   "metadata": {
    "tags": []
   },
   "outputs": [],
   "source": [
    "# data"
   ]
  },
  {
   "cell_type": "code",
   "execution_count": 10,
   "id": "78b1bab3-f3b9-4c9b-8542-8bc247291f60",
   "metadata": {
    "tags": []
   },
   "outputs": [],
   "source": [
    "X = data.iloc[:,:-1]\n",
    "y = data.iloc[:, -1]"
   ]
  },
  {
   "cell_type": "code",
   "execution_count": 11,
   "id": "2931aa45-67d5-4245-9885-0150fd9f3322",
   "metadata": {
    "tags": []
   },
   "outputs": [],
   "source": [
    "X_train, X_test, y_train, y_test = tts(X, y, test_size=0.2, random_state = 42)"
   ]
  },
  {
   "cell_type": "code",
   "execution_count": 12,
   "id": "2b9ca212-57cf-4272-bac0-b051e4ec42be",
   "metadata": {
    "tags": []
   },
   "outputs": [
    {
     "data": {
      "text/html": [
       "<div>\n",
       "<style scoped>\n",
       "    .dataframe tbody tr th:only-of-type {\n",
       "        vertical-align: middle;\n",
       "    }\n",
       "\n",
       "    .dataframe tbody tr th {\n",
       "        vertical-align: top;\n",
       "    }\n",
       "\n",
       "    .dataframe thead th {\n",
       "        text-align: right;\n",
       "    }\n",
       "</style>\n",
       "<table border=\"1\" class=\"dataframe\">\n",
       "  <thead>\n",
       "    <tr style=\"text-align: right;\">\n",
       "      <th></th>\n",
       "      <th>ax_mean</th>\n",
       "      <th>ax_std</th>\n",
       "      <th>ax_absdev</th>\n",
       "      <th>ax_min</th>\n",
       "      <th>ax_max</th>\n",
       "      <th>ax_maxmin</th>\n",
       "      <th>ax_median</th>\n",
       "      <th>ax_medianabsdev</th>\n",
       "      <th>ax_iqr</th>\n",
       "      <th>ax_negcount</th>\n",
       "      <th>...</th>\n",
       "      <th>az_abovemean</th>\n",
       "      <th>az_peakcount</th>\n",
       "      <th>az_skew</th>\n",
       "      <th>az_kurtosis</th>\n",
       "      <th>az_energy</th>\n",
       "      <th>az_argmax</th>\n",
       "      <th>az_argmin</th>\n",
       "      <th>az_arg_diff</th>\n",
       "      <th>avg_result_accl</th>\n",
       "      <th>sma</th>\n",
       "    </tr>\n",
       "  </thead>\n",
       "  <tbody>\n",
       "    <tr>\n",
       "      <th>296</th>\n",
       "      <td>-5837.218</td>\n",
       "      <td>1057.081472</td>\n",
       "      <td>841.004200</td>\n",
       "      <td>-8008.0</td>\n",
       "      <td>-3071.0</td>\n",
       "      <td>4937.0</td>\n",
       "      <td>-5985.5</td>\n",
       "      <td>693.0</td>\n",
       "      <td>1354.50</td>\n",
       "      <td>500.0</td>\n",
       "      <td>...</td>\n",
       "      <td>137.0</td>\n",
       "      <td>46.0</td>\n",
       "      <td>1.887735</td>\n",
       "      <td>2.934962</td>\n",
       "      <td>3.081265e+07</td>\n",
       "      <td>74022.0</td>\n",
       "      <td>74258.0</td>\n",
       "      <td>-236.0</td>\n",
       "      <td>8508.724352</td>\n",
       "      <td>4.215826e+06</td>\n",
       "    </tr>\n",
       "    <tr>\n",
       "      <th>474</th>\n",
       "      <td>-8904.720</td>\n",
       "      <td>512.033004</td>\n",
       "      <td>431.414240</td>\n",
       "      <td>-9538.0</td>\n",
       "      <td>-7410.0</td>\n",
       "      <td>2128.0</td>\n",
       "      <td>-9126.5</td>\n",
       "      <td>256.0</td>\n",
       "      <td>749.25</td>\n",
       "      <td>500.0</td>\n",
       "      <td>...</td>\n",
       "      <td>181.0</td>\n",
       "      <td>74.0</td>\n",
       "      <td>1.309377</td>\n",
       "      <td>1.077647</td>\n",
       "      <td>6.896837e+06</td>\n",
       "      <td>118567.0</td>\n",
       "      <td>118890.0</td>\n",
       "      <td>-323.0</td>\n",
       "      <td>8287.011655</td>\n",
       "      <td>4.126305e+06</td>\n",
       "    </tr>\n",
       "    <tr>\n",
       "      <th>546</th>\n",
       "      <td>2007.584</td>\n",
       "      <td>3439.931840</td>\n",
       "      <td>3041.681984</td>\n",
       "      <td>-5846.0</td>\n",
       "      <td>7589.0</td>\n",
       "      <td>13435.0</td>\n",
       "      <td>2124.5</td>\n",
       "      <td>3222.0</td>\n",
       "      <td>6482.00</td>\n",
       "      <td>172.0</td>\n",
       "      <td>...</td>\n",
       "      <td>272.0</td>\n",
       "      <td>29.0</td>\n",
       "      <td>0.127317</td>\n",
       "      <td>-0.398588</td>\n",
       "      <td>3.646303e+06</td>\n",
       "      <td>136811.0</td>\n",
       "      <td>136723.0</td>\n",
       "      <td>88.0</td>\n",
       "      <td>7365.109690</td>\n",
       "      <td>3.486024e+06</td>\n",
       "    </tr>\n",
       "    <tr>\n",
       "      <th>740</th>\n",
       "      <td>-5212.376</td>\n",
       "      <td>6171.693591</td>\n",
       "      <td>5365.163072</td>\n",
       "      <td>-18151.0</td>\n",
       "      <td>4912.0</td>\n",
       "      <td>23063.0</td>\n",
       "      <td>-4190.0</td>\n",
       "      <td>4951.0</td>\n",
       "      <td>10569.25</td>\n",
       "      <td>370.0</td>\n",
       "      <td>...</td>\n",
       "      <td>227.0</td>\n",
       "      <td>38.0</td>\n",
       "      <td>0.066307</td>\n",
       "      <td>-1.404426</td>\n",
       "      <td>3.154484e+08</td>\n",
       "      <td>185368.0</td>\n",
       "      <td>185121.0</td>\n",
       "      <td>247.0</td>\n",
       "      <td>9867.744781</td>\n",
       "      <td>4.005688e+06</td>\n",
       "    </tr>\n",
       "    <tr>\n",
       "      <th>235</th>\n",
       "      <td>489.548</td>\n",
       "      <td>1556.575612</td>\n",
       "      <td>1303.800896</td>\n",
       "      <td>-1452.0</td>\n",
       "      <td>4185.0</td>\n",
       "      <td>5637.0</td>\n",
       "      <td>-89.0</td>\n",
       "      <td>713.0</td>\n",
       "      <td>2104.75</td>\n",
       "      <td>283.0</td>\n",
       "      <td>...</td>\n",
       "      <td>252.0</td>\n",
       "      <td>47.0</td>\n",
       "      <td>-0.113826</td>\n",
       "      <td>-0.771645</td>\n",
       "      <td>1.556037e+08</td>\n",
       "      <td>59092.0</td>\n",
       "      <td>59204.0</td>\n",
       "      <td>-112.0</td>\n",
       "      <td>8192.395707</td>\n",
       "      <td>4.014759e+06</td>\n",
       "    </tr>\n",
       "    <tr>\n",
       "      <th>...</th>\n",
       "      <td>...</td>\n",
       "      <td>...</td>\n",
       "      <td>...</td>\n",
       "      <td>...</td>\n",
       "      <td>...</td>\n",
       "      <td>...</td>\n",
       "      <td>...</td>\n",
       "      <td>...</td>\n",
       "      <td>...</td>\n",
       "      <td>...</td>\n",
       "      <td>...</td>\n",
       "      <td>...</td>\n",
       "      <td>...</td>\n",
       "      <td>...</td>\n",
       "      <td>...</td>\n",
       "      <td>...</td>\n",
       "      <td>...</td>\n",
       "      <td>...</td>\n",
       "      <td>...</td>\n",
       "      <td>...</td>\n",
       "      <td>...</td>\n",
       "    </tr>\n",
       "    <tr>\n",
       "      <th>217</th>\n",
       "      <td>-6682.794</td>\n",
       "      <td>29.686555</td>\n",
       "      <td>23.194584</td>\n",
       "      <td>-6793.0</td>\n",
       "      <td>-6606.0</td>\n",
       "      <td>187.0</td>\n",
       "      <td>-6681.0</td>\n",
       "      <td>18.0</td>\n",
       "      <td>37.00</td>\n",
       "      <td>500.0</td>\n",
       "      <td>...</td>\n",
       "      <td>236.0</td>\n",
       "      <td>94.0</td>\n",
       "      <td>0.443246</td>\n",
       "      <td>0.516320</td>\n",
       "      <td>2.036299e+08</td>\n",
       "      <td>54570.0</td>\n",
       "      <td>54377.0</td>\n",
       "      <td>193.0</td>\n",
       "      <td>8294.436357</td>\n",
       "      <td>4.147114e+06</td>\n",
       "    </tr>\n",
       "    <tr>\n",
       "      <th>480</th>\n",
       "      <td>730.168</td>\n",
       "      <td>935.003972</td>\n",
       "      <td>779.442688</td>\n",
       "      <td>-1311.0</td>\n",
       "      <td>3011.0</td>\n",
       "      <td>4322.0</td>\n",
       "      <td>690.0</td>\n",
       "      <td>668.5</td>\n",
       "      <td>1340.25</td>\n",
       "      <td>112.0</td>\n",
       "      <td>...</td>\n",
       "      <td>280.0</td>\n",
       "      <td>33.0</td>\n",
       "      <td>-0.248328</td>\n",
       "      <td>-0.256006</td>\n",
       "      <td>1.743909e+08</td>\n",
       "      <td>120106.0</td>\n",
       "      <td>120199.0</td>\n",
       "      <td>-93.0</td>\n",
       "      <td>8021.381558</td>\n",
       "      <td>3.955926e+06</td>\n",
       "    </tr>\n",
       "    <tr>\n",
       "      <th>416</th>\n",
       "      <td>-3678.038</td>\n",
       "      <td>2034.279119</td>\n",
       "      <td>1783.750608</td>\n",
       "      <td>-7560.0</td>\n",
       "      <td>19.0</td>\n",
       "      <td>7579.0</td>\n",
       "      <td>-3600.5</td>\n",
       "      <td>1877.0</td>\n",
       "      <td>3769.50</td>\n",
       "      <td>499.0</td>\n",
       "      <td>...</td>\n",
       "      <td>262.0</td>\n",
       "      <td>32.0</td>\n",
       "      <td>-0.215583</td>\n",
       "      <td>-0.549570</td>\n",
       "      <td>1.446686e+08</td>\n",
       "      <td>104010.0</td>\n",
       "      <td>104146.0</td>\n",
       "      <td>-136.0</td>\n",
       "      <td>8783.549642</td>\n",
       "      <td>4.295943e+06</td>\n",
       "    </tr>\n",
       "    <tr>\n",
       "      <th>37</th>\n",
       "      <td>-6139.692</td>\n",
       "      <td>210.585919</td>\n",
       "      <td>175.442464</td>\n",
       "      <td>-6525.0</td>\n",
       "      <td>-5708.0</td>\n",
       "      <td>817.0</td>\n",
       "      <td>-6148.0</td>\n",
       "      <td>144.5</td>\n",
       "      <td>282.75</td>\n",
       "      <td>500.0</td>\n",
       "      <td>...</td>\n",
       "      <td>238.0</td>\n",
       "      <td>112.0</td>\n",
       "      <td>0.162123</td>\n",
       "      <td>-0.331295</td>\n",
       "      <td>2.093089e+08</td>\n",
       "      <td>9313.0</td>\n",
       "      <td>9454.0</td>\n",
       "      <td>-141.0</td>\n",
       "      <td>8225.611706</td>\n",
       "      <td>4.111939e+06</td>\n",
       "    </tr>\n",
       "    <tr>\n",
       "      <th>602</th>\n",
       "      <td>3159.334</td>\n",
       "      <td>1184.986928</td>\n",
       "      <td>954.799336</td>\n",
       "      <td>517.0</td>\n",
       "      <td>6699.0</td>\n",
       "      <td>6182.0</td>\n",
       "      <td>3153.5</td>\n",
       "      <td>846.0</td>\n",
       "      <td>1649.00</td>\n",
       "      <td>0.0</td>\n",
       "      <td>...</td>\n",
       "      <td>266.0</td>\n",
       "      <td>58.0</td>\n",
       "      <td>-0.343406</td>\n",
       "      <td>0.079331</td>\n",
       "      <td>3.509659e+07</td>\n",
       "      <td>150848.0</td>\n",
       "      <td>150511.0</td>\n",
       "      <td>337.0</td>\n",
       "      <td>8164.989402</td>\n",
       "      <td>3.924337e+06</td>\n",
       "    </tr>\n",
       "  </tbody>\n",
       "</table>\n",
       "<p>11689 rows × 59 columns</p>\n",
       "</div>"
      ],
      "text/plain": [
       "      ax_mean       ax_std    ax_absdev   ax_min  ax_max  ax_maxmin  \\\n",
       "296 -5837.218  1057.081472   841.004200  -8008.0 -3071.0     4937.0   \n",
       "474 -8904.720   512.033004   431.414240  -9538.0 -7410.0     2128.0   \n",
       "546  2007.584  3439.931840  3041.681984  -5846.0  7589.0    13435.0   \n",
       "740 -5212.376  6171.693591  5365.163072 -18151.0  4912.0    23063.0   \n",
       "235   489.548  1556.575612  1303.800896  -1452.0  4185.0     5637.0   \n",
       "..        ...          ...          ...      ...     ...        ...   \n",
       "217 -6682.794    29.686555    23.194584  -6793.0 -6606.0      187.0   \n",
       "480   730.168   935.003972   779.442688  -1311.0  3011.0     4322.0   \n",
       "416 -3678.038  2034.279119  1783.750608  -7560.0    19.0     7579.0   \n",
       "37  -6139.692   210.585919   175.442464  -6525.0 -5708.0      817.0   \n",
       "602  3159.334  1184.986928   954.799336    517.0  6699.0     6182.0   \n",
       "\n",
       "     ax_median  ax_medianabsdev    ax_iqr  ax_negcount  ...  az_abovemean  \\\n",
       "296    -5985.5            693.0   1354.50        500.0  ...         137.0   \n",
       "474    -9126.5            256.0    749.25        500.0  ...         181.0   \n",
       "546     2124.5           3222.0   6482.00        172.0  ...         272.0   \n",
       "740    -4190.0           4951.0  10569.25        370.0  ...         227.0   \n",
       "235      -89.0            713.0   2104.75        283.0  ...         252.0   \n",
       "..         ...              ...       ...          ...  ...           ...   \n",
       "217    -6681.0             18.0     37.00        500.0  ...         236.0   \n",
       "480      690.0            668.5   1340.25        112.0  ...         280.0   \n",
       "416    -3600.5           1877.0   3769.50        499.0  ...         262.0   \n",
       "37     -6148.0            144.5    282.75        500.0  ...         238.0   \n",
       "602     3153.5            846.0   1649.00          0.0  ...         266.0   \n",
       "\n",
       "     az_peakcount   az_skew  az_kurtosis     az_energy  az_argmax  az_argmin  \\\n",
       "296          46.0  1.887735     2.934962  3.081265e+07    74022.0    74258.0   \n",
       "474          74.0  1.309377     1.077647  6.896837e+06   118567.0   118890.0   \n",
       "546          29.0  0.127317    -0.398588  3.646303e+06   136811.0   136723.0   \n",
       "740          38.0  0.066307    -1.404426  3.154484e+08   185368.0   185121.0   \n",
       "235          47.0 -0.113826    -0.771645  1.556037e+08    59092.0    59204.0   \n",
       "..            ...       ...          ...           ...        ...        ...   \n",
       "217          94.0  0.443246     0.516320  2.036299e+08    54570.0    54377.0   \n",
       "480          33.0 -0.248328    -0.256006  1.743909e+08   120106.0   120199.0   \n",
       "416          32.0 -0.215583    -0.549570  1.446686e+08   104010.0   104146.0   \n",
       "37          112.0  0.162123    -0.331295  2.093089e+08     9313.0     9454.0   \n",
       "602          58.0 -0.343406     0.079331  3.509659e+07   150848.0   150511.0   \n",
       "\n",
       "     az_arg_diff  avg_result_accl           sma  \n",
       "296       -236.0      8508.724352  4.215826e+06  \n",
       "474       -323.0      8287.011655  4.126305e+06  \n",
       "546         88.0      7365.109690  3.486024e+06  \n",
       "740        247.0      9867.744781  4.005688e+06  \n",
       "235       -112.0      8192.395707  4.014759e+06  \n",
       "..           ...              ...           ...  \n",
       "217        193.0      8294.436357  4.147114e+06  \n",
       "480        -93.0      8021.381558  3.955926e+06  \n",
       "416       -136.0      8783.549642  4.295943e+06  \n",
       "37        -141.0      8225.611706  4.111939e+06  \n",
       "602        337.0      8164.989402  3.924337e+06  \n",
       "\n",
       "[11689 rows x 59 columns]"
      ]
     },
     "execution_count": 12,
     "metadata": {},
     "output_type": "execute_result"
    }
   ],
   "source": [
    "X_train"
   ]
  },
  {
   "cell_type": "code",
   "execution_count": 13,
   "id": "5b5388cf-28b7-4986-a8fd-df0cc87c2b39",
   "metadata": {
    "tags": []
   },
   "outputs": [
    {
     "data": {
      "text/html": [
       "<div>\n",
       "<style scoped>\n",
       "    .dataframe tbody tr th:only-of-type {\n",
       "        vertical-align: middle;\n",
       "    }\n",
       "\n",
       "    .dataframe tbody tr th {\n",
       "        vertical-align: top;\n",
       "    }\n",
       "\n",
       "    .dataframe thead th {\n",
       "        text-align: right;\n",
       "    }\n",
       "</style>\n",
       "<table border=\"1\" class=\"dataframe\">\n",
       "  <thead>\n",
       "    <tr style=\"text-align: right;\">\n",
       "      <th></th>\n",
       "      <th>ax_mean</th>\n",
       "      <th>ax_std</th>\n",
       "      <th>ax_absdev</th>\n",
       "      <th>ax_min</th>\n",
       "      <th>ax_max</th>\n",
       "      <th>ax_maxmin</th>\n",
       "      <th>ax_median</th>\n",
       "      <th>ax_medianabsdev</th>\n",
       "      <th>ax_iqr</th>\n",
       "      <th>ax_negcount</th>\n",
       "      <th>...</th>\n",
       "      <th>az_abovemean</th>\n",
       "      <th>az_peakcount</th>\n",
       "      <th>az_skew</th>\n",
       "      <th>az_kurtosis</th>\n",
       "      <th>az_energy</th>\n",
       "      <th>az_argmax</th>\n",
       "      <th>az_argmin</th>\n",
       "      <th>az_arg_diff</th>\n",
       "      <th>avg_result_accl</th>\n",
       "      <th>sma</th>\n",
       "    </tr>\n",
       "  </thead>\n",
       "  <tbody>\n",
       "    <tr>\n",
       "      <th>746</th>\n",
       "      <td>-6196.502</td>\n",
       "      <td>4328.545982</td>\n",
       "      <td>3614.354032</td>\n",
       "      <td>-15462.0</td>\n",
       "      <td>2173.0</td>\n",
       "      <td>17635.0</td>\n",
       "      <td>-6094.5</td>\n",
       "      <td>3542.0</td>\n",
       "      <td>7170.75</td>\n",
       "      <td>458.0</td>\n",
       "      <td>...</td>\n",
       "      <td>220.0</td>\n",
       "      <td>41.0</td>\n",
       "      <td>0.108442</td>\n",
       "      <td>-1.199619</td>\n",
       "      <td>1.041613e+08</td>\n",
       "      <td>186951.0</td>\n",
       "      <td>186572.0</td>\n",
       "      <td>379.0</td>\n",
       "      <td>10223.977264</td>\n",
       "      <td>4.455071e+06</td>\n",
       "    </tr>\n",
       "    <tr>\n",
       "      <th>641</th>\n",
       "      <td>-10529.880</td>\n",
       "      <td>10585.078893</td>\n",
       "      <td>9363.232480</td>\n",
       "      <td>-30510.0</td>\n",
       "      <td>4011.0</td>\n",
       "      <td>34521.0</td>\n",
       "      <td>-8447.0</td>\n",
       "      <td>8522.0</td>\n",
       "      <td>19305.25</td>\n",
       "      <td>398.0</td>\n",
       "      <td>...</td>\n",
       "      <td>255.0</td>\n",
       "      <td>33.0</td>\n",
       "      <td>-0.464752</td>\n",
       "      <td>-0.882261</td>\n",
       "      <td>1.316302e+08</td>\n",
       "      <td>160405.0</td>\n",
       "      <td>160304.0</td>\n",
       "      <td>101.0</td>\n",
       "      <td>13083.193279</td>\n",
       "      <td>4.921142e+06</td>\n",
       "    </tr>\n",
       "    <tr>\n",
       "      <th>81</th>\n",
       "      <td>3916.110</td>\n",
       "      <td>31.051150</td>\n",
       "      <td>23.481000</td>\n",
       "      <td>3837.0</td>\n",
       "      <td>4046.0</td>\n",
       "      <td>209.0</td>\n",
       "      <td>3912.0</td>\n",
       "      <td>18.5</td>\n",
       "      <td>36.00</td>\n",
       "      <td>0.0</td>\n",
       "      <td>...</td>\n",
       "      <td>251.0</td>\n",
       "      <td>103.0</td>\n",
       "      <td>-0.035881</td>\n",
       "      <td>-0.144982</td>\n",
       "      <td>6.602333e+07</td>\n",
       "      <td>20653.0</td>\n",
       "      <td>20517.0</td>\n",
       "      <td>136.0</td>\n",
       "      <td>8477.969009</td>\n",
       "      <td>4.238948e+06</td>\n",
       "    </tr>\n",
       "    <tr>\n",
       "      <th>394</th>\n",
       "      <td>-352.778</td>\n",
       "      <td>2918.391050</td>\n",
       "      <td>2584.913112</td>\n",
       "      <td>-7081.0</td>\n",
       "      <td>4310.0</td>\n",
       "      <td>11391.0</td>\n",
       "      <td>-296.5</td>\n",
       "      <td>2645.0</td>\n",
       "      <td>5162.75</td>\n",
       "      <td>262.0</td>\n",
       "      <td>...</td>\n",
       "      <td>272.0</td>\n",
       "      <td>26.0</td>\n",
       "      <td>-0.322299</td>\n",
       "      <td>-0.791367</td>\n",
       "      <td>5.082404e+07</td>\n",
       "      <td>98999.0</td>\n",
       "      <td>98500.0</td>\n",
       "      <td>499.0</td>\n",
       "      <td>8177.788601</td>\n",
       "      <td>3.925222e+06</td>\n",
       "    </tr>\n",
       "    <tr>\n",
       "      <th>57</th>\n",
       "      <td>-6237.578</td>\n",
       "      <td>99.986619</td>\n",
       "      <td>85.389232</td>\n",
       "      <td>-6414.0</td>\n",
       "      <td>-6059.0</td>\n",
       "      <td>355.0</td>\n",
       "      <td>-6220.5</td>\n",
       "      <td>85.0</td>\n",
       "      <td>173.00</td>\n",
       "      <td>500.0</td>\n",
       "      <td>...</td>\n",
       "      <td>307.0</td>\n",
       "      <td>103.0</td>\n",
       "      <td>-0.524239</td>\n",
       "      <td>-1.209504</td>\n",
       "      <td>4.290436e+07</td>\n",
       "      <td>14475.0</td>\n",
       "      <td>14353.0</td>\n",
       "      <td>122.0</td>\n",
       "      <td>8745.212845</td>\n",
       "      <td>4.371790e+06</td>\n",
       "    </tr>\n",
       "    <tr>\n",
       "      <th>...</th>\n",
       "      <td>...</td>\n",
       "      <td>...</td>\n",
       "      <td>...</td>\n",
       "      <td>...</td>\n",
       "      <td>...</td>\n",
       "      <td>...</td>\n",
       "      <td>...</td>\n",
       "      <td>...</td>\n",
       "      <td>...</td>\n",
       "      <td>...</td>\n",
       "      <td>...</td>\n",
       "      <td>...</td>\n",
       "      <td>...</td>\n",
       "      <td>...</td>\n",
       "      <td>...</td>\n",
       "      <td>...</td>\n",
       "      <td>...</td>\n",
       "      <td>...</td>\n",
       "      <td>...</td>\n",
       "      <td>...</td>\n",
       "      <td>...</td>\n",
       "    </tr>\n",
       "    <tr>\n",
       "      <th>478</th>\n",
       "      <td>-8672.244</td>\n",
       "      <td>193.235060</td>\n",
       "      <td>150.722048</td>\n",
       "      <td>-9450.0</td>\n",
       "      <td>-7808.0</td>\n",
       "      <td>1642.0</td>\n",
       "      <td>-8676.5</td>\n",
       "      <td>124.0</td>\n",
       "      <td>252.25</td>\n",
       "      <td>500.0</td>\n",
       "      <td>...</td>\n",
       "      <td>260.0</td>\n",
       "      <td>99.0</td>\n",
       "      <td>-0.101068</td>\n",
       "      <td>-0.528058</td>\n",
       "      <td>1.156779e+07</td>\n",
       "      <td>119578.0</td>\n",
       "      <td>119646.0</td>\n",
       "      <td>-68.0</td>\n",
       "      <td>8457.807446</td>\n",
       "      <td>4.226189e+06</td>\n",
       "    </tr>\n",
       "    <tr>\n",
       "      <th>624</th>\n",
       "      <td>-8742.464</td>\n",
       "      <td>5336.923878</td>\n",
       "      <td>4558.113984</td>\n",
       "      <td>-20749.0</td>\n",
       "      <td>-560.0</td>\n",
       "      <td>20189.0</td>\n",
       "      <td>-8188.5</td>\n",
       "      <td>4547.5</td>\n",
       "      <td>9100.75</td>\n",
       "      <td>500.0</td>\n",
       "      <td>...</td>\n",
       "      <td>254.0</td>\n",
       "      <td>32.0</td>\n",
       "      <td>-0.401363</td>\n",
       "      <td>-0.793172</td>\n",
       "      <td>1.229033e+08</td>\n",
       "      <td>156151.0</td>\n",
       "      <td>156174.0</td>\n",
       "      <td>-23.0</td>\n",
       "      <td>10320.976874</td>\n",
       "      <td>4.638537e+06</td>\n",
       "    </tr>\n",
       "    <tr>\n",
       "      <th>144</th>\n",
       "      <td>-357.188</td>\n",
       "      <td>67.852964</td>\n",
       "      <td>54.933264</td>\n",
       "      <td>-566.0</td>\n",
       "      <td>-204.0</td>\n",
       "      <td>362.0</td>\n",
       "      <td>-355.5</td>\n",
       "      <td>49.0</td>\n",
       "      <td>98.00</td>\n",
       "      <td>500.0</td>\n",
       "      <td>...</td>\n",
       "      <td>246.0</td>\n",
       "      <td>105.0</td>\n",
       "      <td>0.145140</td>\n",
       "      <td>-0.598036</td>\n",
       "      <td>5.186526e+07</td>\n",
       "      <td>36129.0</td>\n",
       "      <td>36442.0</td>\n",
       "      <td>-313.0</td>\n",
       "      <td>7351.729826</td>\n",
       "      <td>3.674742e+06</td>\n",
       "    </tr>\n",
       "    <tr>\n",
       "      <th>518</th>\n",
       "      <td>5191.408</td>\n",
       "      <td>2785.224531</td>\n",
       "      <td>2456.260512</td>\n",
       "      <td>-2664.0</td>\n",
       "      <td>9729.0</td>\n",
       "      <td>12393.0</td>\n",
       "      <td>6066.5</td>\n",
       "      <td>2050.5</td>\n",
       "      <td>4881.75</td>\n",
       "      <td>9.0</td>\n",
       "      <td>...</td>\n",
       "      <td>314.0</td>\n",
       "      <td>50.0</td>\n",
       "      <td>-0.844403</td>\n",
       "      <td>-0.454317</td>\n",
       "      <td>5.544061e+07</td>\n",
       "      <td>129775.0</td>\n",
       "      <td>129998.0</td>\n",
       "      <td>-223.0</td>\n",
       "      <td>8903.675876</td>\n",
       "      <td>4.136605e+06</td>\n",
       "    </tr>\n",
       "    <tr>\n",
       "      <th>677</th>\n",
       "      <td>411.028</td>\n",
       "      <td>1441.491253</td>\n",
       "      <td>864.037856</td>\n",
       "      <td>-1466.0</td>\n",
       "      <td>5916.0</td>\n",
       "      <td>7382.0</td>\n",
       "      <td>87.5</td>\n",
       "      <td>405.5</td>\n",
       "      <td>775.50</td>\n",
       "      <td>212.0</td>\n",
       "      <td>...</td>\n",
       "      <td>79.0</td>\n",
       "      <td>75.0</td>\n",
       "      <td>2.923048</td>\n",
       "      <td>7.596551</td>\n",
       "      <td>1.483739e+08</td>\n",
       "      <td>169749.0</td>\n",
       "      <td>169682.0</td>\n",
       "      <td>67.0</td>\n",
       "      <td>8056.409607</td>\n",
       "      <td>3.886259e+06</td>\n",
       "    </tr>\n",
       "  </tbody>\n",
       "</table>\n",
       "<p>2923 rows × 59 columns</p>\n",
       "</div>"
      ],
      "text/plain": [
       "       ax_mean        ax_std    ax_absdev   ax_min  ax_max  ax_maxmin  \\\n",
       "746  -6196.502   4328.545982  3614.354032 -15462.0  2173.0    17635.0   \n",
       "641 -10529.880  10585.078893  9363.232480 -30510.0  4011.0    34521.0   \n",
       "81    3916.110     31.051150    23.481000   3837.0  4046.0      209.0   \n",
       "394   -352.778   2918.391050  2584.913112  -7081.0  4310.0    11391.0   \n",
       "57   -6237.578     99.986619    85.389232  -6414.0 -6059.0      355.0   \n",
       "..         ...           ...          ...      ...     ...        ...   \n",
       "478  -8672.244    193.235060   150.722048  -9450.0 -7808.0     1642.0   \n",
       "624  -8742.464   5336.923878  4558.113984 -20749.0  -560.0    20189.0   \n",
       "144   -357.188     67.852964    54.933264   -566.0  -204.0      362.0   \n",
       "518   5191.408   2785.224531  2456.260512  -2664.0  9729.0    12393.0   \n",
       "677    411.028   1441.491253   864.037856  -1466.0  5916.0     7382.0   \n",
       "\n",
       "     ax_median  ax_medianabsdev    ax_iqr  ax_negcount  ...  az_abovemean  \\\n",
       "746    -6094.5           3542.0   7170.75        458.0  ...         220.0   \n",
       "641    -8447.0           8522.0  19305.25        398.0  ...         255.0   \n",
       "81      3912.0             18.5     36.00          0.0  ...         251.0   \n",
       "394     -296.5           2645.0   5162.75        262.0  ...         272.0   \n",
       "57     -6220.5             85.0    173.00        500.0  ...         307.0   \n",
       "..         ...              ...       ...          ...  ...           ...   \n",
       "478    -8676.5            124.0    252.25        500.0  ...         260.0   \n",
       "624    -8188.5           4547.5   9100.75        500.0  ...         254.0   \n",
       "144     -355.5             49.0     98.00        500.0  ...         246.0   \n",
       "518     6066.5           2050.5   4881.75          9.0  ...         314.0   \n",
       "677       87.5            405.5    775.50        212.0  ...          79.0   \n",
       "\n",
       "     az_peakcount   az_skew  az_kurtosis     az_energy  az_argmax  az_argmin  \\\n",
       "746          41.0  0.108442    -1.199619  1.041613e+08   186951.0   186572.0   \n",
       "641          33.0 -0.464752    -0.882261  1.316302e+08   160405.0   160304.0   \n",
       "81          103.0 -0.035881    -0.144982  6.602333e+07    20653.0    20517.0   \n",
       "394          26.0 -0.322299    -0.791367  5.082404e+07    98999.0    98500.0   \n",
       "57          103.0 -0.524239    -1.209504  4.290436e+07    14475.0    14353.0   \n",
       "..            ...       ...          ...           ...        ...        ...   \n",
       "478          99.0 -0.101068    -0.528058  1.156779e+07   119578.0   119646.0   \n",
       "624          32.0 -0.401363    -0.793172  1.229033e+08   156151.0   156174.0   \n",
       "144         105.0  0.145140    -0.598036  5.186526e+07    36129.0    36442.0   \n",
       "518          50.0 -0.844403    -0.454317  5.544061e+07   129775.0   129998.0   \n",
       "677          75.0  2.923048     7.596551  1.483739e+08   169749.0   169682.0   \n",
       "\n",
       "     az_arg_diff  avg_result_accl           sma  \n",
       "746        379.0     10223.977264  4.455071e+06  \n",
       "641        101.0     13083.193279  4.921142e+06  \n",
       "81         136.0      8477.969009  4.238948e+06  \n",
       "394        499.0      8177.788601  3.925222e+06  \n",
       "57         122.0      8745.212845  4.371790e+06  \n",
       "..           ...              ...           ...  \n",
       "478        -68.0      8457.807446  4.226189e+06  \n",
       "624        -23.0     10320.976874  4.638537e+06  \n",
       "144       -313.0      7351.729826  3.674742e+06  \n",
       "518       -223.0      8903.675876  4.136605e+06  \n",
       "677         67.0      8056.409607  3.886259e+06  \n",
       "\n",
       "[2923 rows x 59 columns]"
      ]
     },
     "execution_count": 13,
     "metadata": {},
     "output_type": "execute_result"
    }
   ],
   "source": [
    "X_test"
   ]
  },
  {
   "cell_type": "code",
   "execution_count": 14,
   "id": "3287b64f-c98c-4277-b606-33ea9e9f4fec",
   "metadata": {
    "tags": []
   },
   "outputs": [
    {
     "data": {
      "text/plain": [
       "296    3.0\n",
       "474    2.0\n",
       "546    4.0\n",
       "740    6.0\n",
       "235    2.0\n",
       "      ... \n",
       "217    2.0\n",
       "480    4.0\n",
       "416    3.0\n",
       "37     1.0\n",
       "602    5.0\n",
       "Name: label, Length: 11689, dtype: float64"
      ]
     },
     "execution_count": 14,
     "metadata": {},
     "output_type": "execute_result"
    }
   ],
   "source": [
    "y_train"
   ]
  },
  {
   "cell_type": "code",
   "execution_count": 15,
   "id": "6ed24dd1-6582-4984-bfb6-95ed74659897",
   "metadata": {
    "tags": []
   },
   "outputs": [
    {
     "data": {
      "text/plain": [
       "746    6.0\n",
       "641    5.0\n",
       "81     1.0\n",
       "394    3.0\n",
       "57     1.0\n",
       "      ... \n",
       "478    2.0\n",
       "624    5.0\n",
       "144    2.0\n",
       "518    4.0\n",
       "677    5.0\n",
       "Name: label, Length: 2923, dtype: float64"
      ]
     },
     "execution_count": 15,
     "metadata": {},
     "output_type": "execute_result"
    }
   ],
   "source": [
    "y_test"
   ]
  },
  {
   "cell_type": "markdown",
   "id": "2a257166-f44a-4994-b920-9ed566cc32c1",
   "metadata": {},
   "source": [
    "# ML Models"
   ]
  },
  {
   "cell_type": "code",
   "execution_count": 16,
   "id": "0bfa7da6-fa56-4381-930b-7256cd132c10",
   "metadata": {
    "tags": []
   },
   "outputs": [],
   "source": [
    "# X_train = Train.iloc[:,:-1].values\n",
    "# y_train = Train.iloc[:,-1].values"
   ]
  },
  {
   "cell_type": "code",
   "execution_count": 17,
   "id": "8e3f6286-c3e2-49b5-8873-cfe0e628169f",
   "metadata": {
    "tags": []
   },
   "outputs": [],
   "source": [
    "# X_test = Test.iloc[:,:-1].values\n",
    "# y_test = Test.iloc[:,-1].values"
   ]
  },
  {
   "cell_type": "code",
   "execution_count": 16,
   "id": "51525a99-d1ed-43b7-852a-50ed2a03c5d7",
   "metadata": {
    "tags": []
   },
   "outputs": [],
   "source": [
    "# standardization\n",
    "scaler = StandardScaler()\n",
    "scaler.fit(X_train)\n",
    "X_train_data = scaler.transform(X_train)\n",
    "X_test_data = scaler.transform(X_test)"
   ]
  },
  {
   "cell_type": "code",
   "execution_count": 17,
   "id": "b810e038-d6cc-4dbe-b719-649059f807f8",
   "metadata": {
    "tags": []
   },
   "outputs": [
    {
     "name": "stdout",
     "output_type": "stream",
     "text": [
      "Accuracy: 0.857680465275402\n",
      "\n",
      " -------------Classification Report-------------\n",
      "\n",
      "              precision    recall  f1-score   support\n",
      "\n",
      "         1.0       0.92      0.92      0.92       484\n",
      "         2.0       0.88      0.82      0.85       553\n",
      "         3.0       0.79      0.83      0.81       415\n",
      "         4.0       0.81      0.85      0.83       482\n",
      "         5.0       0.83      0.82      0.82       450\n",
      "         6.0       0.90      0.89      0.89       539\n",
      "\n",
      "    accuracy                           0.86      2923\n",
      "   macro avg       0.86      0.86      0.86      2923\n",
      "weighted avg       0.86      0.86      0.86      2923\n",
      "\n"
     ]
    }
   ],
   "source": [
    "# logistic regression model\n",
    "lr = LogisticRegression()\n",
    "lr.fit(X_train_data, y_train)\n",
    "y_pred_lr = lr.predict(X_test_data)\n",
    "print(\"Accuracy:\", accuracy_score(y_test, y_pred_lr))\n",
    "print(\"\\n -------------Classification Report-------------\\n\")\n",
    "print(classification_report(y_test, y_pred_lr))"
   ]
  },
  {
   "cell_type": "code",
   "execution_count": 18,
   "id": "3c1c3904-cd66-4c3c-b1e9-90de2c436483",
   "metadata": {
    "tags": []
   },
   "outputs": [
    {
     "data": {
      "image/png": "[encoded data removed]",
      "text/plain": [
       "<Figure size 640x480 with 2 Axes>"
      ]
     },
     "metadata": {},
     "output_type": "display_data"
    }
   ],
   "source": [
    "labels = [1,2,3,4,5,6]\n",
    "confusion_matrix = cm(y_test, y_pred_lr)\n",
    "sns.heatmap(confusion_matrix, xticklabels=labels, yticklabels=labels, annot=True,linewidths = 0.1, fmt=\"d\", cmap = 'YlGnBu')\n",
    "plt.title(\"Confusion matrix\", fontsize = 15)\n",
    "plt.ylabel('True label')\n",
    "plt.xlabel('Predicted label')\n",
    "plt.show()"
   ]
  },
  {
   "cell_type": "markdown",
   "id": "9219c3e5-4dbd-4bf3-ad20-aa955bdd5e6c",
   "metadata": {},
   "source": [
    "## Logistic Regreesion"
   ]
  },
  {
   "cell_type": "code",
   "execution_count": 19,
   "id": "51fd211a-66f7-4a40-ba85-899b829ccd34",
   "metadata": {
    "tags": []
   },
   "outputs": [
    {
     "name": "stdout",
     "output_type": "stream",
     "text": [
      "Accuracy: 0.894970920287376\n",
      "\n",
      " -------------Classification Report-------------\n",
      "\n",
      "              precision    recall  f1-score   support\n",
      "\n",
      "         1.0       0.91      0.91      0.91       484\n",
      "         2.0       0.89      0.84      0.86       553\n",
      "         3.0       0.84      0.93      0.88       415\n",
      "         4.0       0.88      0.93      0.90       482\n",
      "         5.0       0.91      0.84      0.87       450\n",
      "         6.0       0.94      0.92      0.93       539\n",
      "\n",
      "    accuracy                           0.89      2923\n",
      "   macro avg       0.89      0.90      0.89      2923\n",
      "weighted avg       0.90      0.89      0.89      2923\n",
      "\n"
     ]
    }
   ],
   "source": [
    "# logistic regression model\n",
    "knn = KNeighborsClassifier()\n",
    "knn.fit(X_train_data, y_train)\n",
    "y_pred_knn = knn.predict(X_test_data)\n",
    "print(\"Accuracy:\", accuracy_score(y_test, y_pred_knn))\n",
    "print(\"\\n -------------Classification Report-------------\\n\")\n",
    "print(classification_report(y_test, y_pred_knn))"
   ]
  },
  {
   "cell_type": "code",
   "execution_count": 20,
   "id": "d9c085a6-cce8-47c7-823a-531e7403799b",
   "metadata": {
    "tags": []
   },
   "outputs": [
    {
     "data": {
      "image/png": "[encoded data removed]",
      "text/plain": [
       "<Figure size 640x480 with 2 Axes>"
      ]
     },
     "metadata": {},
     "output_type": "display_data"
    }
   ],
   "source": [
    "labels = [1,2,3,4,5,6]\n",
    "confusion_matrix = cm(y_test, y_pred_knn)\n",
    "sns.heatmap(confusion_matrix, xticklabels=labels, yticklabels=labels, annot=True,linewidths = 0.1, fmt=\"d\", cmap = 'YlGnBu')\n",
    "plt.title(\"Confusion matrix\", fontsize = 15)\n",
    "plt.ylabel('True label')\n",
    "plt.xlabel('Predicted label')\n",
    "plt.show()"
   ]
  },
  {
   "cell_type": "markdown",
   "id": "8eec6581-570b-4cca-a6f9-347cf14de275",
   "metadata": {},
   "source": [
    "## Decision Tree"
   ]
  },
  {
   "cell_type": "code",
   "execution_count": 21,
   "id": "b93d4091-52f9-41e5-bc53-779682e23b8f",
   "metadata": {
    "tags": []
   },
   "outputs": [
    {
     "name": "stdout",
     "output_type": "stream",
     "text": [
      "Accuracy: 0.9490249743414301\n",
      "\n",
      " -------------Classification Report-------------\n",
      "\n",
      "              precision    recall  f1-score   support\n",
      "\n",
      "         1.0       0.99      0.98      0.98       484\n",
      "         2.0       0.95      0.95      0.95       553\n",
      "         3.0       0.92      0.92      0.92       415\n",
      "         4.0       0.94      0.94      0.94       482\n",
      "         5.0       0.93      0.94      0.94       450\n",
      "         6.0       0.96      0.96      0.96       539\n",
      "\n",
      "    accuracy                           0.95      2923\n",
      "   macro avg       0.95      0.95      0.95      2923\n",
      "weighted avg       0.95      0.95      0.95      2923\n",
      "\n"
     ]
    }
   ],
   "source": [
    "# Decision Tree Classifier model\n",
    "dt = DecisionTreeClassifier()\n",
    "dt.fit(X_train_data, y_train)\n",
    "y_pred_dt = dt.predict(X_test_data)\n",
    "print(\"Accuracy:\", accuracy_score(y_test, y_pred_dt))\n",
    "print(\"\\n -------------Classification Report-------------\\n\")\n",
    "print(classification_report(y_test, y_pred_dt))"
   ]
  },
  {
   "cell_type": "code",
   "execution_count": 22,
   "id": "d7b6212e-11ff-4cad-a34e-4b016df4cf99",
   "metadata": {
    "tags": []
   },
   "outputs": [
    {
     "data": {
      "image/png": "[encoded data removed]",
      "text/plain": [
       "<Figure size 640x480 with 2 Axes>"
      ]
     },
     "metadata": {},
     "output_type": "display_data"
    }
   ],
   "source": [
    "labels = [1,2,3,4,5,6]\n",
    "confusion_matrix = cm(y_test, y_pred_dt)\n",
    "sns.heatmap(confusion_matrix, xticklabels=labels, yticklabels=labels, annot=True,linewidths = 0.1, fmt=\"d\", cmap = 'YlGnBu')\n",
    "plt.title(\"Confusion matrix\", fontsize = 15)\n",
    "plt.ylabel('True label')\n",
    "plt.xlabel('Predicted label')\n",
    "plt.show()"
   ]
  },
  {
   "cell_type": "markdown",
   "id": "92018b5d-259f-4576-8e40-659a6287fb6e",
   "metadata": {
    "tags": []
   },
   "source": [
    "### Hyperparameter tuning in Decision Tree"
   ]
  },
  {
   "cell_type": "code",
   "execution_count": 50,
   "id": "3b1c91ea-3549-47ac-894f-35c93bfa4d64",
   "metadata": {
    "tags": []
   },
   "outputs": [],
   "source": [
    "# Define a dictionary of hyperparameters and their possible values\n",
    "param_grid = {\n",
    "    'criterion': ['gini', 'entropy'],\n",
    "    'max_depth': [None, 10, 20, 30],\n",
    "    'min_samples_split': [20, 5, 10]\n",
    "}\n",
    "\n",
    "# Create a GridSearchCV object\n",
    "grid_search = GridSearchCV(dt, param_grid, cv=5)\n",
    "\n",
    "# Fit the grid search to your data\n",
    "grid_search.fit(X_train_data, y_train)\n",
    "\n",
    "# Get the best hyperparameters\n",
    "best_params = grid_search.best_params_"
   ]
  },
  {
   "cell_type": "code",
   "execution_count": 51,
   "id": "b0e1eeb4-1d62-4bb2-9c70-ce9d30f10456",
   "metadata": {
    "tags": []
   },
   "outputs": [
    {
     "name": "stdout",
     "output_type": "stream",
     "text": [
      "Best Mean Cross-Validated Score: 0.7048387096774194\n"
     ]
    }
   ],
   "source": [
    "# Get the best mean cross-validated score\n",
    "best_mean_score = grid_search.best_score_\n",
    "\n",
    "print(\"Best Mean Cross-Validated Score:\", best_mean_score)"
   ]
  },
  {
   "cell_type": "code",
   "execution_count": 52,
   "id": "c0111ab0-e3ba-478f-ba90-87cc10689905",
   "metadata": {
    "tags": []
   },
   "outputs": [
    {
     "data": {
      "text/plain": [
       "{'criterion': 'entropy', 'max_depth': 10, 'min_samples_split': 20}"
      ]
     },
     "execution_count": 52,
     "metadata": {},
     "output_type": "execute_result"
    }
   ],
   "source": [
    "best_params"
   ]
  },
  {
   "cell_type": "markdown",
   "id": "1741b0f8-eb8a-485f-8a97-17822e620e9f",
   "metadata": {},
   "source": [
    "## Random Forest"
   ]
  },
  {
   "cell_type": "code",
   "execution_count": 23,
   "id": "38ffa005-f94c-4361-b6dd-3c1e5450fea8",
   "metadata": {
    "tags": []
   },
   "outputs": [
    {
     "name": "stdout",
     "output_type": "stream",
     "text": [
      "Accuracy: 0.9770783441669517\n",
      "\n",
      " -------------Classification Report-------------\n",
      "\n",
      "              precision    recall  f1-score   support\n",
      "\n",
      "         1.0       0.99      0.98      0.99       484\n",
      "         2.0       0.98      0.97      0.97       553\n",
      "         3.0       0.96      0.97      0.97       415\n",
      "         4.0       0.97      0.98      0.97       482\n",
      "         5.0       0.98      0.96      0.97       450\n",
      "         6.0       0.98      0.99      0.99       539\n",
      "\n",
      "    accuracy                           0.98      2923\n",
      "   macro avg       0.98      0.98      0.98      2923\n",
      "weighted avg       0.98      0.98      0.98      2923\n",
      "\n"
     ]
    }
   ],
   "source": [
    "# Random forest Classifier model\n",
    "rf = RandomForestClassifier()\n",
    "rf.fit(X_train_data, y_train)\n",
    "y_pred_rf = rf.predict(X_test_data)\n",
    "print(\"Accuracy:\", accuracy_score(y_test, y_pred_rf))\n",
    "print(\"\\n -------------Classification Report-------------\\n\")\n",
    "print(classification_report(y_test, y_pred_rf))"
   ]
  },
  {
   "cell_type": "code",
   "execution_count": 24,
   "id": "9ca35651-b4f2-4767-aa85-234ad7d62c54",
   "metadata": {
    "tags": []
   },
   "outputs": [
    {
     "data": {
      "image/png": "[encoded data removed]",
      "text/plain": [
       "<Figure size 640x480 with 2 Axes>"
      ]
     },
     "metadata": {},
     "output_type": "display_data"
    }
   ],
   "source": [
    "labels = [1,2,3,4,5,6]\n",
    "confusion_matrix = cm(y_test, y_pred_rf)\n",
    "sns.heatmap(confusion_matrix, xticklabels=labels, yticklabels=labels, annot=True,linewidths = 0.1, fmt=\"d\", cmap = 'YlGnBu')\n",
    "plt.title(\"Confusion matrix\", fontsize = 15)\n",
    "plt.ylabel('True label')\n",
    "plt.xlabel('Predicted label')\n",
    "plt.show()"
   ]
  },
  {
   "cell_type": "markdown",
   "id": "d56afc8e-8b88-45cf-87a2-a2adfc4b891f",
   "metadata": {
    "tags": []
   },
   "source": [
    "## Naive Bayes Classifier"
   ]
  },
  {
   "cell_type": "code",
   "execution_count": 27,
   "id": "1b36b9df-7aec-4e44-8497-59c1029bbec6",
   "metadata": {
    "tags": []
   },
   "outputs": [
    {
     "name": "stdout",
     "output_type": "stream",
     "text": [
      "Accuracy: 0.6549826187717266\n",
      "\n",
      " -------------Classification Report-------------\n",
      "\n",
      "              precision    recall  f1-score   support\n",
      "\n",
      "         1.0       0.60      0.98      0.75       528\n",
      "         2.0       0.63      0.37      0.47       597\n",
      "         3.0       0.65      0.83      0.73       536\n",
      "         4.0       0.82      0.59      0.69       608\n",
      "         5.0       0.62      0.52      0.57       582\n",
      "         6.0       0.65      0.69      0.67       601\n",
      "\n",
      "    accuracy                           0.65      3452\n",
      "   macro avg       0.66      0.66      0.64      3452\n",
      "weighted avg       0.67      0.65      0.64      3452\n",
      "\n"
     ]
    }
   ],
   "source": [
    "# Gaussian Naive Bayes Classifier model\n",
    "gnb = GaussianNB()\n",
    "gnb.fit(X_train_data, y_train)\n",
    "y_pred_gnb = gnb.predict(X_test_data)\n",
    "print(\"Accuracy:\", accuracy_score(y_test, y_pred_gnb))\n",
    "print(\"\\n -------------Classification Report-------------\\n\")\n",
    "print(classification_report(y_test, y_pred_gnb))"
   ]
  },
  {
   "cell_type": "code",
   "execution_count": 28,
   "id": "da72c11d-f859-4234-be43-6d02d1795d0a",
   "metadata": {
    "tags": []
   },
   "outputs": [
    {
     "data": {
      "image/png": "[encoded data removed]",
      "text/plain": [
       "<Figure size 640x480 with 2 Axes>"
      ]
     },
     "metadata": {},
     "output_type": "display_data"
    }
   ],
   "source": [
    "labels = [1,2,3,4,5,6]\n",
    "confusion_matrix = cm(y_test, y_pred_gnb)\n",
    "sns.heatmap(confusion_matrix, xticklabels=labels, yticklabels=labels, annot=True,linewidths = 0.1, fmt=\"d\", cmap = 'YlGnBu')\n",
    "plt.title(\"Confusion matrix\", fontsize = 15)\n",
    "plt.ylabel('True label')\n",
    "plt.xlabel('Predicted label')\n",
    "plt.show()"
   ]
  },
  {
   "cell_type": "markdown",
   "id": "ac7386ea-35b5-4805-868a-1a7b4b7a4588",
   "metadata": {},
   "source": [
    "### Hyperparameter tuning on Naive Bayes"
   ]
  },
  {
   "cell_type": "code",
   "execution_count": 29,
   "id": "0500d0c3-10bd-4eba-969d-1f208d989f2b",
   "metadata": {
    "tags": []
   },
   "outputs": [],
   "source": [
    "# Define a dictionary of hyperparameters and their possible values\n",
    "param_grid = {\n",
    "    'var_smoothing': [1e-9, 1e-8, 1e-7, 1e-6, 1e-5]\n",
    "}\n",
    "\n",
    "# Create a GridSearchCV object\n",
    "grid_search = GridSearchCV(gnb, param_grid, cv=5)\n",
    "\n",
    "# Fit the grid search to your data\n",
    "grid_search.fit(X_train_data, y_train)\n",
    "\n",
    "# Get the best hyperparameters\n",
    "best_params = grid_search.best_params_\n",
    "\n",
    "# Get the best mean cross-validated score\n",
    "best_mean_score = grid_search.best_score_"
   ]
  },
  {
   "cell_type": "code",
   "execution_count": 30,
   "id": "1b697828-02b5-4e46-b0f2-bcb4b81a8645",
   "metadata": {
    "tags": []
   },
   "outputs": [
    {
     "data": {
      "text/plain": [
       "{'var_smoothing': 1e-09}"
      ]
     },
     "execution_count": 30,
     "metadata": {},
     "output_type": "execute_result"
    }
   ],
   "source": [
    "best_params"
   ]
  },
  {
   "cell_type": "code",
   "execution_count": 31,
   "id": "8417d3ce-8d0a-4897-99da-cde4b77c5699",
   "metadata": {
    "tags": []
   },
   "outputs": [
    {
     "data": {
      "text/plain": [
       "0.5909498207885304"
      ]
     },
     "execution_count": 31,
     "metadata": {},
     "output_type": "execute_result"
    }
   ],
   "source": [
    "best_mean_score"
   ]
  },
  {
   "cell_type": "markdown",
   "id": "6b1f33c7-35ca-4f60-ab4a-a6f419308fda",
   "metadata": {
    "tags": []
   },
   "source": [
    "## Support Vector Classification"
   ]
  },
  {
   "cell_type": "code",
   "execution_count": 32,
   "id": "712bc457-0c86-4144-9526-b45c962feb86",
   "metadata": {
    "tags": []
   },
   "outputs": [
    {
     "name": "stdout",
     "output_type": "stream",
     "text": [
      "Accuracy: 0.7250869061413673\n",
      "\n",
      " -------------Classification Report-------------\n",
      "\n",
      "              precision    recall  f1-score   support\n",
      "\n",
      "         1.0       0.72      0.99      0.83       528\n",
      "         2.0       0.66      0.64      0.65       597\n",
      "         3.0       0.60      0.76      0.67       536\n",
      "         4.0       0.95      0.40      0.57       608\n",
      "         5.0       0.83      0.70      0.76       582\n",
      "         6.0       0.75      0.90      0.82       601\n",
      "\n",
      "    accuracy                           0.73      3452\n",
      "   macro avg       0.75      0.73      0.72      3452\n",
      "weighted avg       0.75      0.73      0.71      3452\n",
      "\n"
     ]
    }
   ],
   "source": [
    "# SVC Classifier model\n",
    "svc = SVC()\n",
    "svc.fit(X_train_data, y_train)\n",
    "y_pred_svc = lr.predict(X_test_data)\n",
    "print(\"Accuracy:\", accuracy_score(y_test, y_pred_svc))\n",
    "print(\"\\n -------------Classification Report-------------\\n\")\n",
    "print(classification_report(y_test, y_pred_svc))"
   ]
  },
  {
   "cell_type": "code",
   "execution_count": 33,
   "id": "bca646a5-5ed6-4162-a536-89b2ba11ce8a",
   "metadata": {
    "tags": []
   },
   "outputs": [
    {
     "ename": "NameError",
     "evalue": "name 'y_pred' is not defined",
     "output_type": "error",
     "traceback": [
      "\u001b[0;31m---------------------------------------------------------------------------\u001b[0m",
      "\u001b[0;31mNameError\u001b[0m                                 Traceback (most recent call last)",
      "Cell \u001b[0;32mIn[33], line 2\u001b[0m\n\u001b[1;32m      1\u001b[0m labels \u001b[38;5;241m=\u001b[39m [\u001b[38;5;241m1\u001b[39m,\u001b[38;5;241m2\u001b[39m,\u001b[38;5;241m3\u001b[39m,\u001b[38;5;241m4\u001b[39m,\u001b[38;5;241m5\u001b[39m,\u001b[38;5;241m6\u001b[39m]\n\u001b[0;32m----> 2\u001b[0m confusion_matrix \u001b[38;5;241m=\u001b[39m cm(y_test, y_pred)\n\u001b[1;32m      3\u001b[0m sns\u001b[38;5;241m.\u001b[39mheatmap(confusion_matrix, xticklabels\u001b[38;5;241m=\u001b[39mlabels, yticklabels\u001b[38;5;241m=\u001b[39mlabels, annot\u001b[38;5;241m=\u001b[39m\u001b[38;5;28;01mTrue\u001b[39;00m,linewidths \u001b[38;5;241m=\u001b[39m \u001b[38;5;241m0.1\u001b[39m, fmt\u001b[38;5;241m=\u001b[39m\u001b[38;5;124m\"\u001b[39m\u001b[38;5;124md\u001b[39m\u001b[38;5;124m\"\u001b[39m, cmap \u001b[38;5;241m=\u001b[39m \u001b[38;5;124m'\u001b[39m\u001b[38;5;124mYlGnBu\u001b[39m\u001b[38;5;124m'\u001b[39m)\n\u001b[1;32m      4\u001b[0m plt\u001b[38;5;241m.\u001b[39mtitle(\u001b[38;5;124m\"\u001b[39m\u001b[38;5;124mConfusion matrix\u001b[39m\u001b[38;5;124m\"\u001b[39m, fontsize \u001b[38;5;241m=\u001b[39m \u001b[38;5;241m15\u001b[39m)\n",
      "\u001b[0;31mNameError\u001b[0m: name 'y_pred' is not defined"
     ]
    }
   ],
   "source": [
    "labels = [1,2,3,4,5,6]\n",
    "confusion_matrix = cm(y_test, y_pred)\n",
    "sns.heatmap(confusion_matrix, xticklabels=labels, yticklabels=labels, annot=True,linewidths = 0.1, fmt=\"d\", cmap = 'YlGnBu')\n",
    "plt.title(\"Confusion matrix\", fontsize = 15)\n",
    "plt.ylabel('True label')\n",
    "plt.xlabel('Predicted label')\n",
    "plt.show()"
   ]
  },
  {
   "cell_type": "code",
   "execution_count": null,
   "id": "4a1b23a3-2de1-4986-bf24-621316736a40",
   "metadata": {},
   "outputs": [],
   "source": []
  }
 ],
 "metadata": {
  "kernelspec": {
   "display_name": "Python 3 (ipykernel)",
   "language": "python",
   "name": "python3"
  },
  "language_info": {
   "codemirror_mode": {
    "name": "ipython",
    "version": 3
   },
   "file_extension": ".py",
   "mimetype": "text/x-python",
   "name": "python",
   "nbconvert_exporter": "python",
   "pygments_lexer": "ipython3",
   "version": "3.11.3"
  }
 },
 "nbformat": 4,
 "nbformat_minor": 5
}
